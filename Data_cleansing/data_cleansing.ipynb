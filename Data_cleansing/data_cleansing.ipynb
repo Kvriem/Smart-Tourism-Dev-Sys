{
 "cells": [
  {
   "cell_type": "code",
   "execution_count": 1,
   "metadata": {},
   "outputs": [
    {
     "name": "stderr",
     "output_type": "stream",
     "text": [
      "[nltk_data] Downloading package stopwords to\n",
      "[nltk_data]     C:\\Users\\keror\\AppData\\Roaming\\nltk_data...\n",
      "[nltk_data]   Package stopwords is already up-to-date!\n",
      "[nltk_data] Downloading package punkt to\n",
      "[nltk_data]     C:\\Users\\keror\\AppData\\Roaming\\nltk_data...\n",
      "[nltk_data]   Package punkt is already up-to-date!\n"
     ]
    },
    {
     "data": {
      "text/plain": [
       "True"
      ]
     },
     "execution_count": 1,
     "metadata": {},
     "output_type": "execute_result"
    }
   ],
   "source": [
    "import pandas as pd \n",
    "import numpy as np\n",
    "import re\n",
    "import nltk\n",
    "from nltk.corpus import stopwords\n",
    "from nltk.tokenize import word_tokenize\n",
    "nltk.download('stopwords')\n",
    "nltk.download('punkt')"
   ]
  },
  {
   "cell_type": "code",
   "execution_count": 2,
   "metadata": {},
   "outputs": [],
   "source": [
    "df = pd.read_csv(\"hotel_reviews.csv\")"
   ]
  },
  {
   "cell_type": "code",
   "execution_count": 3,
   "metadata": {},
   "outputs": [
    {
     "data": {
      "text/html": [
       "<div>\n",
       "<style scoped>\n",
       "    .dataframe tbody tr th:only-of-type {\n",
       "        vertical-align: middle;\n",
       "    }\n",
       "\n",
       "    .dataframe tbody tr th {\n",
       "        vertical-align: top;\n",
       "    }\n",
       "\n",
       "    .dataframe thead th {\n",
       "        text-align: right;\n",
       "    }\n",
       "</style>\n",
       "<table border=\"1\" class=\"dataframe\">\n",
       "  <thead>\n",
       "    <tr style=\"text-align: right;\">\n",
       "      <th></th>\n",
       "      <th>City</th>\n",
       "      <th>Reviewer Name</th>\n",
       "      <th>Review Title</th>\n",
       "      <th>Positive Review</th>\n",
       "      <th>Negative Review</th>\n",
       "    </tr>\n",
       "  </thead>\n",
       "  <tbody>\n",
       "    <tr>\n",
       "      <th>0</th>\n",
       "      <td>Sharm-ElSheikh</td>\n",
       "      <td>Raghda</td>\n",
       "      <td>Wonderful</td>\n",
       "      <td>Facilities and Staff</td>\n",
       "      <td>No Negative Review</td>\n",
       "    </tr>\n",
       "    <tr>\n",
       "      <th>1</th>\n",
       "      <td>Sharm-ElSheikh</td>\n",
       "      <td>Gündüz</td>\n",
       "      <td>Excellent</td>\n",
       "      <td>Everything was perfect, all hotel crews are so...</td>\n",
       "      <td>No Negative Review</td>\n",
       "    </tr>\n",
       "    <tr>\n",
       "      <th>2</th>\n",
       "      <td>Sharm-ElSheikh</td>\n",
       "      <td>Mandy</td>\n",
       "      <td>unbelievable relaxation experience</td>\n",
       "      <td>impeccable cleanliness with the manager checki...</td>\n",
       "      <td>posh club should be adults only although kids ...</td>\n",
       "    </tr>\n",
       "    <tr>\n",
       "      <th>3</th>\n",
       "      <td>Sharm-ElSheikh</td>\n",
       "      <td>Alaere</td>\n",
       "      <td>Exceptional</td>\n",
       "      <td>The resort is beautiful, and the vibe is excit...</td>\n",
       "      <td>No Negative Review</td>\n",
       "    </tr>\n",
       "    <tr>\n",
       "      <th>4</th>\n",
       "      <td>Sharm-ElSheikh</td>\n",
       "      <td>Elena</td>\n",
       "      <td>Wonderful</td>\n",
       "      <td>Beautiful sea and location, comfortable and pi...</td>\n",
       "      <td>Restaurant service is not extraordinary. The c...</td>\n",
       "    </tr>\n",
       "  </tbody>\n",
       "</table>\n",
       "</div>"
      ],
      "text/plain": [
       "             City Reviewer Name                        Review Title  \\\n",
       "0  Sharm-ElSheikh        Raghda                           Wonderful   \n",
       "1  Sharm-ElSheikh        Gündüz                           Excellent   \n",
       "2  Sharm-ElSheikh         Mandy  unbelievable relaxation experience   \n",
       "3  Sharm-ElSheikh        Alaere                         Exceptional   \n",
       "4  Sharm-ElSheikh         Elena                           Wonderful   \n",
       "\n",
       "                                     Positive Review  \\\n",
       "0                               Facilities and Staff   \n",
       "1  Everything was perfect, all hotel crews are so...   \n",
       "2  impeccable cleanliness with the manager checki...   \n",
       "3  The resort is beautiful, and the vibe is excit...   \n",
       "4  Beautiful sea and location, comfortable and pi...   \n",
       "\n",
       "                                     Negative Review  \n",
       "0                                 No Negative Review  \n",
       "1                                 No Negative Review  \n",
       "2  posh club should be adults only although kids ...  \n",
       "3                                 No Negative Review  \n",
       "4  Restaurant service is not extraordinary. The c...  "
      ]
     },
     "execution_count": 3,
     "metadata": {},
     "output_type": "execute_result"
    }
   ],
   "source": [
    "df.head()\n"
   ]
  },
  {
   "cell_type": "code",
   "execution_count": 32,
   "metadata": {},
   "outputs": [],
   "source": [
    "data = df.drop(columns=['Reviewer Name'])"
   ]
  },
  {
   "cell_type": "code",
   "execution_count": 33,
   "metadata": {},
   "outputs": [
    {
     "data": {
      "text/html": [
       "<div>\n",
       "<style scoped>\n",
       "    .dataframe tbody tr th:only-of-type {\n",
       "        vertical-align: middle;\n",
       "    }\n",
       "\n",
       "    .dataframe tbody tr th {\n",
       "        vertical-align: top;\n",
       "    }\n",
       "\n",
       "    .dataframe thead th {\n",
       "        text-align: right;\n",
       "    }\n",
       "</style>\n",
       "<table border=\"1\" class=\"dataframe\">\n",
       "  <thead>\n",
       "    <tr style=\"text-align: right;\">\n",
       "      <th></th>\n",
       "      <th>City</th>\n",
       "      <th>Review Title</th>\n",
       "      <th>Positive Review</th>\n",
       "      <th>Negative Review</th>\n",
       "    </tr>\n",
       "  </thead>\n",
       "  <tbody>\n",
       "    <tr>\n",
       "      <th>0</th>\n",
       "      <td>Sharm-ElSheikh</td>\n",
       "      <td>Wonderful</td>\n",
       "      <td>Facilities and Staff</td>\n",
       "      <td>No Negative Review</td>\n",
       "    </tr>\n",
       "    <tr>\n",
       "      <th>1</th>\n",
       "      <td>Sharm-ElSheikh</td>\n",
       "      <td>Excellent</td>\n",
       "      <td>Everything was perfect, all hotel crews are so...</td>\n",
       "      <td>No Negative Review</td>\n",
       "    </tr>\n",
       "    <tr>\n",
       "      <th>2</th>\n",
       "      <td>Sharm-ElSheikh</td>\n",
       "      <td>unbelievable relaxation experience</td>\n",
       "      <td>impeccable cleanliness with the manager checki...</td>\n",
       "      <td>posh club should be adults only although kids ...</td>\n",
       "    </tr>\n",
       "    <tr>\n",
       "      <th>3</th>\n",
       "      <td>Sharm-ElSheikh</td>\n",
       "      <td>Exceptional</td>\n",
       "      <td>The resort is beautiful, and the vibe is excit...</td>\n",
       "      <td>No Negative Review</td>\n",
       "    </tr>\n",
       "    <tr>\n",
       "      <th>4</th>\n",
       "      <td>Sharm-ElSheikh</td>\n",
       "      <td>Wonderful</td>\n",
       "      <td>Beautiful sea and location, comfortable and pi...</td>\n",
       "      <td>Restaurant service is not extraordinary. The c...</td>\n",
       "    </tr>\n",
       "    <tr>\n",
       "      <th>5</th>\n",
       "      <td>Sharm-ElSheikh</td>\n",
       "      <td>Unforgettable stay due to the Posh Club team!</td>\n",
       "      <td>Our stay at White Hills Resort is one we’ll ne...</td>\n",
       "      <td>The only negative things I’d say about our sta...</td>\n",
       "    </tr>\n",
       "    <tr>\n",
       "      <th>6</th>\n",
       "      <td>Sharm-ElSheikh</td>\n",
       "      <td>Very Good</td>\n",
       "      <td>The staff, food were great, service was amazing</td>\n",
       "      <td>Insect in the room was annoying, fire alarm wa...</td>\n",
       "    </tr>\n",
       "    <tr>\n",
       "      <th>7</th>\n",
       "      <td>Sharm-ElSheikh</td>\n",
       "      <td>Exceptional</td>\n",
       "      <td>Tamer and all staff is amazing. Posh Club is f...</td>\n",
       "      <td>No Negative Review</td>\n",
       "    </tr>\n",
       "    <tr>\n",
       "      <th>8</th>\n",
       "      <td>Sharm-ElSheikh</td>\n",
       "      <td>Good day</td>\n",
       "      <td>The resort was clean and view was amazing , en...</td>\n",
       "      <td>- the gulf car always late though it’s 5 stati...</td>\n",
       "    </tr>\n",
       "    <tr>\n",
       "      <th>9</th>\n",
       "      <td>Sharm-ElSheikh</td>\n",
       "      <td>Exceptional</td>\n",
       "      <td>Privacy and safety, activities, stuff, food, a...</td>\n",
       "      <td>Maybe nothing</td>\n",
       "    </tr>\n",
       "  </tbody>\n",
       "</table>\n",
       "</div>"
      ],
      "text/plain": [
       "             City                                   Review Title  \\\n",
       "0  Sharm-ElSheikh                                      Wonderful   \n",
       "1  Sharm-ElSheikh                                      Excellent   \n",
       "2  Sharm-ElSheikh             unbelievable relaxation experience   \n",
       "3  Sharm-ElSheikh                                    Exceptional   \n",
       "4  Sharm-ElSheikh                                      Wonderful   \n",
       "5  Sharm-ElSheikh  Unforgettable stay due to the Posh Club team!   \n",
       "6  Sharm-ElSheikh                                      Very Good   \n",
       "7  Sharm-ElSheikh                                    Exceptional   \n",
       "8  Sharm-ElSheikh                                       Good day   \n",
       "9  Sharm-ElSheikh                                    Exceptional   \n",
       "\n",
       "                                     Positive Review  \\\n",
       "0                               Facilities and Staff   \n",
       "1  Everything was perfect, all hotel crews are so...   \n",
       "2  impeccable cleanliness with the manager checki...   \n",
       "3  The resort is beautiful, and the vibe is excit...   \n",
       "4  Beautiful sea and location, comfortable and pi...   \n",
       "5  Our stay at White Hills Resort is one we’ll ne...   \n",
       "6    The staff, food were great, service was amazing   \n",
       "7  Tamer and all staff is amazing. Posh Club is f...   \n",
       "8  The resort was clean and view was amazing , en...   \n",
       "9  Privacy and safety, activities, stuff, food, a...   \n",
       "\n",
       "                                     Negative Review  \n",
       "0                                 No Negative Review  \n",
       "1                                 No Negative Review  \n",
       "2  posh club should be adults only although kids ...  \n",
       "3                                 No Negative Review  \n",
       "4  Restaurant service is not extraordinary. The c...  \n",
       "5  The only negative things I’d say about our sta...  \n",
       "6  Insect in the room was annoying, fire alarm wa...  \n",
       "7                                 No Negative Review  \n",
       "8  - the gulf car always late though it’s 5 stati...  \n",
       "9                                      Maybe nothing  "
      ]
     },
     "execution_count": 33,
     "metadata": {},
     "output_type": "execute_result"
    }
   ],
   "source": [
    "data.head(10)"
   ]
  },
  {
   "cell_type": "code",
   "execution_count": 34,
   "metadata": {},
   "outputs": [
    {
     "data": {
      "text/plain": [
       "City\n",
       "Sharm-ElSheikh    210\n",
       "Alexandria         30\n",
       "Name: count, dtype: int64"
      ]
     },
     "execution_count": 34,
     "metadata": {},
     "output_type": "execute_result"
    }
   ],
   "source": [
    "data['City'].value_counts()\n"
   ]
  },
  {
   "cell_type": "markdown",
   "metadata": {},
   "source": [
    "# data cleansing practice"
   ]
  },
  {
   "cell_type": "code",
   "execution_count": 35,
   "metadata": {},
   "outputs": [
    {
     "name": "stderr",
     "output_type": "stream",
     "text": [
      "<>:3: SyntaxWarning: invalid escape sequence '\\s'\n",
      "<>:4: SyntaxWarning: invalid escape sequence '\\s'\n",
      "<>:5: SyntaxWarning: invalid escape sequence '\\s'\n",
      "<>:6: SyntaxWarning: invalid escape sequence '\\s'\n",
      "<>:3: SyntaxWarning: invalid escape sequence '\\s'\n",
      "<>:4: SyntaxWarning: invalid escape sequence '\\s'\n",
      "<>:5: SyntaxWarning: invalid escape sequence '\\s'\n",
      "<>:6: SyntaxWarning: invalid escape sequence '\\s'\n",
      "C:\\Users\\keror\\AppData\\Local\\Temp\\ipykernel_7792\\412736757.py:3: SyntaxWarning: invalid escape sequence '\\s'\n",
      "  data['City']= data['City'].apply(lambda x : re.sub('([^a-zA-Z\\s])',' ',x))\n",
      "C:\\Users\\keror\\AppData\\Local\\Temp\\ipykernel_7792\\412736757.py:4: SyntaxWarning: invalid escape sequence '\\s'\n",
      "  data['Negative Review']= data['Negative Review'].apply(lambda x : re.sub('([^a-zA-Z\\s])',' ',x) if isinstance(x, str) else x)\n",
      "C:\\Users\\keror\\AppData\\Local\\Temp\\ipykernel_7792\\412736757.py:5: SyntaxWarning: invalid escape sequence '\\s'\n",
      "  data['Positive Review']= data['Positive Review'].apply(lambda x : re.sub('([^a-zA-Z\\s])',' ',x) if isinstance(x, str) else x)\n",
      "C:\\Users\\keror\\AppData\\Local\\Temp\\ipykernel_7792\\412736757.py:6: SyntaxWarning: invalid escape sequence '\\s'\n",
      "  data['Review Title']= data['Review Title'].apply(lambda x : re.sub('([^a-zA-Z\\s])',' ',x) if isinstance(x, str) else x)\n"
     ]
    }
   ],
   "source": [
    "#using only english charactes \n",
    "\n",
    "data['City']= data['City'].apply(lambda x : re.sub('([^a-zA-Z\\s])',' ',x))\n",
    "data['Negative Review']= data['Negative Review'].apply(lambda x : re.sub('([^a-zA-Z\\s])',' ',x) if isinstance(x, str) else x)\n",
    "data['Positive Review']= data['Positive Review'].apply(lambda x : re.sub('([^a-zA-Z\\s])',' ',x) if isinstance(x, str) else x)\n",
    "data['Review Title']= data['Review Title'].apply(lambda x : re.sub('([^a-zA-Z\\s])',' ',x) if isinstance(x, str) else x)"
   ]
  },
  {
   "cell_type": "code",
   "execution_count": null,
   "metadata": {},
   "outputs": [],
   "source": []
  },
  {
   "cell_type": "code",
   "execution_count": 36,
   "metadata": {},
   "outputs": [
    {
     "name": "stderr",
     "output_type": "stream",
     "text": [
      "<>:3: SyntaxWarning: invalid escape sequence '\\s'\n",
      "<>:4: SyntaxWarning: invalid escape sequence '\\s'\n",
      "<>:5: SyntaxWarning: invalid escape sequence '\\s'\n",
      "<>:6: SyntaxWarning: invalid escape sequence '\\s'\n",
      "<>:3: SyntaxWarning: invalid escape sequence '\\s'\n",
      "<>:4: SyntaxWarning: invalid escape sequence '\\s'\n",
      "<>:5: SyntaxWarning: invalid escape sequence '\\s'\n",
      "<>:6: SyntaxWarning: invalid escape sequence '\\s'\n",
      "C:\\Users\\keror\\AppData\\Local\\Temp\\ipykernel_7792\\2789959937.py:3: SyntaxWarning: invalid escape sequence '\\s'\n",
      "  data['City']= data['City'].apply(lambda x : re.sub('(\\s){2,}',' ',x))\n",
      "C:\\Users\\keror\\AppData\\Local\\Temp\\ipykernel_7792\\2789959937.py:4: SyntaxWarning: invalid escape sequence '\\s'\n",
      "  data['Negative Review']= data['Negative Review'].apply(lambda x : re.sub('(\\s){2,}',' ',x) if isinstance(x, str) else x)\n",
      "C:\\Users\\keror\\AppData\\Local\\Temp\\ipykernel_7792\\2789959937.py:5: SyntaxWarning: invalid escape sequence '\\s'\n",
      "  data['Positive Review']= data['Positive Review'].apply(lambda x : re.sub('(\\s){2,}',' ',x) if isinstance(x, str) else x)\n",
      "C:\\Users\\keror\\AppData\\Local\\Temp\\ipykernel_7792\\2789959937.py:6: SyntaxWarning: invalid escape sequence '\\s'\n",
      "  data['Review Title']= data['Review Title'].apply(lambda x : re.sub('(\\s){2,}',' ',x) if isinstance(x, str) else x)\n"
     ]
    }
   ],
   "source": [
    "# remove additional spaces\n",
    "\n",
    "data['City']= data['City'].apply(lambda x : re.sub('(\\s){2,}',' ',x))\n",
    "data['Negative Review']= data['Negative Review'].apply(lambda x : re.sub('(\\s){2,}',' ',x) if isinstance(x, str) else x)\n",
    "data['Positive Review']= data['Positive Review'].apply(lambda x : re.sub('(\\s){2,}',' ',x) if isinstance(x, str) else x)\n",
    "data['Review Title']= data['Review Title'].apply(lambda x : re.sub('(\\s){2,}',' ',x) if isinstance(x, str) else x)"
   ]
  },
  {
   "cell_type": "code",
   "execution_count": null,
   "metadata": {},
   "outputs": [],
   "source": []
  },
  {
   "cell_type": "code",
   "execution_count": 37,
   "metadata": {},
   "outputs": [],
   "source": [
    "#remove the spaces at the start and the end of the string\n",
    "\n",
    "data['City'] = data['City'].apply(lambda x : x.strip() )\n",
    "data['Negative Review'] = data['Negative Review'].apply(lambda x : x.strip() if isinstance(x, str) else x )\n",
    "data['Positive Review'] = data['Positive Review'].apply(lambda x : x.strip() if isinstance(x, str) else x)\n",
    "data['Review Title'] = data['Review Title'].apply(lambda x : x.strip() if isinstance(x, str) else x)\n"
   ]
  },
  {
   "cell_type": "code",
   "execution_count": null,
   "metadata": {},
   "outputs": [],
   "source": []
  },
  {
   "cell_type": "code",
   "execution_count": 38,
   "metadata": {},
   "outputs": [],
   "source": [
    "# make all data in lower case\n",
    "\n",
    "data['City'] = data['City'].apply(lambda x : x.lower() )\n",
    "data['Negative Review'] = data['Negative Review'].apply(lambda x : x.lower() if isinstance(x, str) else x )\n",
    "data['Positive Review'] = data['Positive Review'].apply(lambda x : x.lower() if isinstance(x, str) else x)\n",
    "data['Review Title'] = data['Review Title'].apply(lambda x : x.lower() if isinstance(x, str) else x)"
   ]
  },
  {
   "cell_type": "code",
   "execution_count": null,
   "metadata": {},
   "outputs": [],
   "source": []
  },
  {
   "cell_type": "code",
   "execution_count": 39,
   "metadata": {},
   "outputs": [],
   "source": [
    "def remove_SW(example):\n",
    "    sw = set(stopwords.words('english'))\n",
    "    word_tokens = word_tokenize(example)\n",
    "    filtered_sentence = [w for w in word_tokens if w.lower() not in sw]\n",
    "\n",
    "    return ' '.join(filtered_sentence)\n"
   ]
  },
  {
   "cell_type": "code",
   "execution_count": 40,
   "metadata": {},
   "outputs": [],
   "source": [
    "# List of columns to remove sw from\n",
    "columns_to_clean = ['City', 'Negative Review', 'Positive Review', 'Review Title']\n",
    "\n",
    "for column in columns_to_clean:\n",
    "    data[column] = data[column].apply(lambda x: remove_SW(x) if isinstance(x, str) else x)\n"
   ]
  },
  {
   "cell_type": "code",
   "execution_count": 41,
   "metadata": {},
   "outputs": [
    {
     "data": {
      "text/html": [
       "<div>\n",
       "<style scoped>\n",
       "    .dataframe tbody tr th:only-of-type {\n",
       "        vertical-align: middle;\n",
       "    }\n",
       "\n",
       "    .dataframe tbody tr th {\n",
       "        vertical-align: top;\n",
       "    }\n",
       "\n",
       "    .dataframe thead th {\n",
       "        text-align: right;\n",
       "    }\n",
       "</style>\n",
       "<table border=\"1\" class=\"dataframe\">\n",
       "  <thead>\n",
       "    <tr style=\"text-align: right;\">\n",
       "      <th></th>\n",
       "      <th>City</th>\n",
       "      <th>Review Title</th>\n",
       "      <th>Positive Review</th>\n",
       "      <th>Negative Review</th>\n",
       "    </tr>\n",
       "  </thead>\n",
       "  <tbody>\n",
       "    <tr>\n",
       "      <th>0</th>\n",
       "      <td>sharm elsheikh</td>\n",
       "      <td>wonderful</td>\n",
       "      <td>facilities staff</td>\n",
       "      <td>negative review</td>\n",
       "    </tr>\n",
       "    <tr>\n",
       "      <th>1</th>\n",
       "      <td>sharm elsheikh</td>\n",
       "      <td>excellent</td>\n",
       "      <td>everything perfect hotel crews kind meals prep...</td>\n",
       "      <td>negative review</td>\n",
       "    </tr>\n",
       "    <tr>\n",
       "      <th>2</th>\n",
       "      <td>sharm elsheikh</td>\n",
       "      <td>unbelievable relaxation experience</td>\n",
       "      <td>impeccable cleanliness manager checking regula...</td>\n",
       "      <td>posh club adults although kids well behaved ad...</td>\n",
       "    </tr>\n",
       "    <tr>\n",
       "      <th>3</th>\n",
       "      <td>sharm elsheikh</td>\n",
       "      <td>exceptional</td>\n",
       "      <td>resort beautiful vibe exciting staff welcoming...</td>\n",
       "      <td>negative review</td>\n",
       "    </tr>\n",
       "    <tr>\n",
       "      <th>4</th>\n",
       "      <td>sharm elsheikh</td>\n",
       "      <td>wonderful</td>\n",
       "      <td>beautiful sea location comfortable picturesque...</td>\n",
       "      <td>restaurant service extraordinary choice alcoho...</td>\n",
       "    </tr>\n",
       "  </tbody>\n",
       "</table>\n",
       "</div>"
      ],
      "text/plain": [
       "             City                        Review Title  \\\n",
       "0  sharm elsheikh                           wonderful   \n",
       "1  sharm elsheikh                           excellent   \n",
       "2  sharm elsheikh  unbelievable relaxation experience   \n",
       "3  sharm elsheikh                         exceptional   \n",
       "4  sharm elsheikh                           wonderful   \n",
       "\n",
       "                                     Positive Review  \\\n",
       "0                                   facilities staff   \n",
       "1  everything perfect hotel crews kind meals prep...   \n",
       "2  impeccable cleanliness manager checking regula...   \n",
       "3  resort beautiful vibe exciting staff welcoming...   \n",
       "4  beautiful sea location comfortable picturesque...   \n",
       "\n",
       "                                     Negative Review  \n",
       "0                                    negative review  \n",
       "1                                    negative review  \n",
       "2  posh club adults although kids well behaved ad...  \n",
       "3                                    negative review  \n",
       "4  restaurant service extraordinary choice alcoho...  "
      ]
     },
     "execution_count": 41,
     "metadata": {},
     "output_type": "execute_result"
    }
   ],
   "source": [
    "\n",
    "\n",
    "data.head()"
   ]
  },
  {
   "cell_type": "code",
   "execution_count": 57,
   "metadata": {},
   "outputs": [],
   "source": [
    "data['Positive Review'] = data['Positive Review'].fillna(\"\")\n",
    "data['Negative Review'] = data['Negative Review'].fillna(\"\")"
   ]
  },
  {
   "cell_type": "code",
   "execution_count": 84,
   "metadata": {},
   "outputs": [
    {
     "name": "stdout",
     "output_type": "stream",
     "text": [
      "Top 5 Tokens:\n",
      " - staff: 0.36\n",
      " - good: 0.28\n",
      " - food: 0.27\n",
      " - room: 0.25\n",
      " - hotel: 0.24\n",
      " - negative: 0.22\n",
      " - review: 0.22\n",
      " - clean: 0.18\n",
      " - beach: 0.17\n",
      " - nice: 0.16\n",
      " - great: 0.15\n",
      " - friendly: 0.14\n",
      " - location: 0.14\n",
      " - stay: 0.13\n",
      " - amazing: 0.12\n",
      " - breakfast: 0.11\n",
      " - helpful: 0.10\n",
      " - really: 0.10\n",
      " - reception: 0.10\n",
      " - pool: 0.09\n",
      "\n",
      "All Top Tokens: ['staff', 'good', 'food', 'room', 'hotel', 'negative', 'review', 'clean', 'beach', 'nice', 'great', 'friendly', 'location', 'stay', 'amazing', 'breakfast', 'helpful', 'really', 'reception', 'pool']\n"
     ]
    }
   ],
   "source": [
    "from sklearn.feature_extraction.text import TfidfVectorizer\n",
    "\n",
    "# Example reviews (combine all reviews into a list)\n",
    "\n",
    "\n",
    "# Combine all reviews into a single text\n",
    "all_reviews = \" \".join(data['Positive Review'] + \" \" +data['Negative Review'])\n",
    "\n",
    "# Initialize TF-IDF Vectorizer\n",
    "vectorizer = TfidfVectorizer(stop_words='english')\n",
    "\n",
    "# Fit and transform the reviews\n",
    "tfidf_matrix = vectorizer.fit_transform([all_reviews])\n",
    "\n",
    "# Get feature names (tokens)\n",
    "feature_names = vectorizer.get_feature_names_out()\n",
    "\n",
    "# Extract TF-IDF scores for all tokens\n",
    "tfidf_scores = zip(feature_names, tfidf_matrix.toarray()[0])\n",
    "\n",
    "# Sort tokens by their TF-IDF scores\n",
    "sorted_tokens = sorted(tfidf_scores, key=lambda x: x[1], reverse=True)\n",
    "\n",
    "# Display the top 5 tokens\n",
    "print(\"Top 5 Tokens:\")\n",
    "\n",
    "tokens = []\n",
    "for token, score in sorted_tokens[:20]:  # Adjusted to print only the top 5 tokens\n",
    "    tokens.append(token)\n",
    "    print(f\" - {token}: {score:.2f}\")\n",
    "\n",
    "# Print the tokens list (optional)\n",
    "print(\"\\nAll Top Tokens:\", tokens)\n"
   ]
  },
  {
   "cell_type": "code",
   "execution_count": 85,
   "metadata": {},
   "outputs": [
    {
     "name": "stdout",
     "output_type": "stream",
     "text": [
      "Original tokens: ['staff', 'good', 'food', 'room', 'hotel', 'negative', 'review', 'clean', 'beach', 'nice', 'great', 'friendly', 'location', 'stay', 'amazing', 'breakfast', 'helpful', 'really', 'reception', 'pool']\n",
      "Updated tokens: ['staff', 'food', 'clean', 'beach', 'location', 'pool']\n"
     ]
    }
   ],
   "source": [
    "\n",
    "print(\"Original tokens:\", tokens)\n",
    "\n",
    "items_to_remove = ['good', 'nice', 'great', 'hotel', 'friendly' ,  'room' , 'negative' ,'review' , 'stay' , 'amazing' , 'helpful' , 'reception' , 'breakfast' , 'really']\n",
    "\n",
    "# Using list comprehension to remove all items in items_to_remove\n",
    "tokens_new = [token for token in tokens if token not in items_to_remove]\n",
    "\n",
    "# Print the updated list\n",
    "print(\"Updated tokens:\", tokens_new)\n"
   ]
  },
  {
   "cell_type": "code",
   "execution_count": 86,
   "metadata": {},
   "outputs": [],
   "source": [
    "for col in tokens_new:\n",
    "    data[col] = 0"
   ]
  },
  {
   "cell_type": "code",
   "execution_count": 87,
   "metadata": {},
   "outputs": [
    {
     "data": {
      "text/html": [
       "<div>\n",
       "<style scoped>\n",
       "    .dataframe tbody tr th:only-of-type {\n",
       "        vertical-align: middle;\n",
       "    }\n",
       "\n",
       "    .dataframe tbody tr th {\n",
       "        vertical-align: top;\n",
       "    }\n",
       "\n",
       "    .dataframe thead th {\n",
       "        text-align: right;\n",
       "    }\n",
       "</style>\n",
       "<table border=\"1\" class=\"dataframe\">\n",
       "  <thead>\n",
       "    <tr style=\"text-align: right;\">\n",
       "      <th></th>\n",
       "      <th>City</th>\n",
       "      <th>Review Title</th>\n",
       "      <th>Positive Review</th>\n",
       "      <th>Negative Review</th>\n",
       "      <th>staff</th>\n",
       "      <th>food</th>\n",
       "      <th>clean</th>\n",
       "      <th>location</th>\n",
       "      <th>beach</th>\n",
       "      <th>pool</th>\n",
       "    </tr>\n",
       "  </thead>\n",
       "  <tbody>\n",
       "    <tr>\n",
       "      <th>0</th>\n",
       "      <td>sharm elsheikh</td>\n",
       "      <td>wonderful</td>\n",
       "      <td>facilities staff</td>\n",
       "      <td>negative review</td>\n",
       "      <td>0</td>\n",
       "      <td>0</td>\n",
       "      <td>0</td>\n",
       "      <td>0</td>\n",
       "      <td>0</td>\n",
       "      <td>0</td>\n",
       "    </tr>\n",
       "    <tr>\n",
       "      <th>1</th>\n",
       "      <td>sharm elsheikh</td>\n",
       "      <td>excellent</td>\n",
       "      <td>everything perfect hotel crews kind meals prep...</td>\n",
       "      <td>negative review</td>\n",
       "      <td>0</td>\n",
       "      <td>0</td>\n",
       "      <td>0</td>\n",
       "      <td>0</td>\n",
       "      <td>0</td>\n",
       "      <td>0</td>\n",
       "    </tr>\n",
       "    <tr>\n",
       "      <th>2</th>\n",
       "      <td>sharm elsheikh</td>\n",
       "      <td>unbelievable relaxation experience</td>\n",
       "      <td>impeccable cleanliness manager checking regula...</td>\n",
       "      <td>posh club adults although kids well behaved ad...</td>\n",
       "      <td>0</td>\n",
       "      <td>0</td>\n",
       "      <td>0</td>\n",
       "      <td>0</td>\n",
       "      <td>0</td>\n",
       "      <td>0</td>\n",
       "    </tr>\n",
       "    <tr>\n",
       "      <th>3</th>\n",
       "      <td>sharm elsheikh</td>\n",
       "      <td>exceptional</td>\n",
       "      <td>resort beautiful vibe exciting staff welcoming...</td>\n",
       "      <td>negative review</td>\n",
       "      <td>0</td>\n",
       "      <td>0</td>\n",
       "      <td>0</td>\n",
       "      <td>0</td>\n",
       "      <td>0</td>\n",
       "      <td>0</td>\n",
       "    </tr>\n",
       "    <tr>\n",
       "      <th>4</th>\n",
       "      <td>sharm elsheikh</td>\n",
       "      <td>wonderful</td>\n",
       "      <td>beautiful sea location comfortable picturesque...</td>\n",
       "      <td>restaurant service extraordinary choice alcoho...</td>\n",
       "      <td>0</td>\n",
       "      <td>0</td>\n",
       "      <td>0</td>\n",
       "      <td>0</td>\n",
       "      <td>0</td>\n",
       "      <td>0</td>\n",
       "    </tr>\n",
       "  </tbody>\n",
       "</table>\n",
       "</div>"
      ],
      "text/plain": [
       "             City                        Review Title  \\\n",
       "0  sharm elsheikh                           wonderful   \n",
       "1  sharm elsheikh                           excellent   \n",
       "2  sharm elsheikh  unbelievable relaxation experience   \n",
       "3  sharm elsheikh                         exceptional   \n",
       "4  sharm elsheikh                           wonderful   \n",
       "\n",
       "                                     Positive Review  \\\n",
       "0                                   facilities staff   \n",
       "1  everything perfect hotel crews kind meals prep...   \n",
       "2  impeccable cleanliness manager checking regula...   \n",
       "3  resort beautiful vibe exciting staff welcoming...   \n",
       "4  beautiful sea location comfortable picturesque...   \n",
       "\n",
       "                                     Negative Review  staff  food  clean  \\\n",
       "0                                    negative review      0     0      0   \n",
       "1                                    negative review      0     0      0   \n",
       "2  posh club adults although kids well behaved ad...      0     0      0   \n",
       "3                                    negative review      0     0      0   \n",
       "4  restaurant service extraordinary choice alcoho...      0     0      0   \n",
       "\n",
       "   location  beach  pool  \n",
       "0         0      0     0  \n",
       "1         0      0     0  \n",
       "2         0      0     0  \n",
       "3         0      0     0  \n",
       "4         0      0     0  "
      ]
     },
     "execution_count": 87,
     "metadata": {},
     "output_type": "execute_result"
    }
   ],
   "source": [
    "\n",
    "data.head()"
   ]
  },
  {
   "cell_type": "code",
   "execution_count": null,
   "metadata": {},
   "outputs": [],
   "source": []
  },
  {
   "cell_type": "code",
   "execution_count": 101,
   "metadata": {},
   "outputs": [],
   "source": [
    "for word in tokens_new:\n",
    "    # For Positive Review: If the word exists, assign 1, otherwise 0\n",
    "    data[word] = data['Positive Review'].apply(lambda x: 1 if word in x.lower() else 0)\n",
    "    \n",
    "    # For Negative Review: If the word exists, assign -1, else keep the value as 1 if it's already 1, otherwise assign 0\n",
    "    data[word] = data.apply(lambda row: -1 if word in row['Negative Review'].lower() else (1 if row[word] == 1 else 0), axis=1)\n"
   ]
  },
  {
   "cell_type": "code",
   "execution_count": null,
   "metadata": {},
   "outputs": [],
   "source": []
  }
 ],
 "metadata": {
  "kernelspec": {
   "display_name": "base",
   "language": "python",
   "name": "python3"
  },
  "language_info": {
   "codemirror_mode": {
    "name": "ipython",
    "version": 3
   },
   "file_extension": ".py",
   "mimetype": "text/x-python",
   "name": "python",
   "nbconvert_exporter": "python",
   "pygments_lexer": "ipython3",
   "version": "3.12.4"
  }
 },
 "nbformat": 4,
 "nbformat_minor": 2
}
