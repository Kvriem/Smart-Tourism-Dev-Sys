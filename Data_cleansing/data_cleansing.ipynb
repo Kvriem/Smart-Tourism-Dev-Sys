{
 "cells": [
  {
   "cell_type": "code",
   "execution_count": 11,
   "metadata": {},
   "outputs": [],
   "source": [
    "import pandas as pd \n",
    "import numpy as np\n",
    "import re"
   ]
  },
  {
   "cell_type": "code",
   "execution_count": 38,
   "metadata": {},
   "outputs": [],
   "source": [
    "df = pd.read_csv(\"hotel_reviews.csv\")"
   ]
  },
  {
   "cell_type": "code",
   "execution_count": 3,
   "metadata": {},
   "outputs": [
    {
     "data": {
      "text/html": [
       "<div>\n",
       "<style scoped>\n",
       "    .dataframe tbody tr th:only-of-type {\n",
       "        vertical-align: middle;\n",
       "    }\n",
       "\n",
       "    .dataframe tbody tr th {\n",
       "        vertical-align: top;\n",
       "    }\n",
       "\n",
       "    .dataframe thead th {\n",
       "        text-align: right;\n",
       "    }\n",
       "</style>\n",
       "<table border=\"1\" class=\"dataframe\">\n",
       "  <thead>\n",
       "    <tr style=\"text-align: right;\">\n",
       "      <th></th>\n",
       "      <th>City</th>\n",
       "      <th>Reviewer Name</th>\n",
       "      <th>Review Title</th>\n",
       "      <th>Positive Review</th>\n",
       "      <th>Negative Review</th>\n",
       "    </tr>\n",
       "  </thead>\n",
       "  <tbody>\n",
       "    <tr>\n",
       "      <th>0</th>\n",
       "      <td>Sharm-ElSheikh</td>\n",
       "      <td>Raghda</td>\n",
       "      <td>Wonderful</td>\n",
       "      <td>Facilities and Staff</td>\n",
       "      <td>No Negative Review</td>\n",
       "    </tr>\n",
       "    <tr>\n",
       "      <th>1</th>\n",
       "      <td>Sharm-ElSheikh</td>\n",
       "      <td>Gündüz</td>\n",
       "      <td>Excellent</td>\n",
       "      <td>Everything was perfect, all hotel crews are so...</td>\n",
       "      <td>No Negative Review</td>\n",
       "    </tr>\n",
       "    <tr>\n",
       "      <th>2</th>\n",
       "      <td>Sharm-ElSheikh</td>\n",
       "      <td>Mandy</td>\n",
       "      <td>unbelievable relaxation experience</td>\n",
       "      <td>impeccable cleanliness with the manager checki...</td>\n",
       "      <td>posh club should be adults only although kids ...</td>\n",
       "    </tr>\n",
       "    <tr>\n",
       "      <th>3</th>\n",
       "      <td>Sharm-ElSheikh</td>\n",
       "      <td>Alaere</td>\n",
       "      <td>Exceptional</td>\n",
       "      <td>The resort is beautiful, and the vibe is excit...</td>\n",
       "      <td>No Negative Review</td>\n",
       "    </tr>\n",
       "    <tr>\n",
       "      <th>4</th>\n",
       "      <td>Sharm-ElSheikh</td>\n",
       "      <td>Elena</td>\n",
       "      <td>Wonderful</td>\n",
       "      <td>Beautiful sea and location, comfortable and pi...</td>\n",
       "      <td>Restaurant service is not extraordinary. The c...</td>\n",
       "    </tr>\n",
       "  </tbody>\n",
       "</table>\n",
       "</div>"
      ],
      "text/plain": [
       "             City Reviewer Name                        Review Title  \\\n",
       "0  Sharm-ElSheikh        Raghda                           Wonderful   \n",
       "1  Sharm-ElSheikh        Gündüz                           Excellent   \n",
       "2  Sharm-ElSheikh         Mandy  unbelievable relaxation experience   \n",
       "3  Sharm-ElSheikh        Alaere                         Exceptional   \n",
       "4  Sharm-ElSheikh         Elena                           Wonderful   \n",
       "\n",
       "                                     Positive Review  \\\n",
       "0                               Facilities and Staff   \n",
       "1  Everything was perfect, all hotel crews are so...   \n",
       "2  impeccable cleanliness with the manager checki...   \n",
       "3  The resort is beautiful, and the vibe is excit...   \n",
       "4  Beautiful sea and location, comfortable and pi...   \n",
       "\n",
       "                                     Negative Review  \n",
       "0                                 No Negative Review  \n",
       "1                                 No Negative Review  \n",
       "2  posh club should be adults only although kids ...  \n",
       "3                                 No Negative Review  \n",
       "4  Restaurant service is not extraordinary. The c...  "
      ]
     },
     "execution_count": 3,
     "metadata": {},
     "output_type": "execute_result"
    }
   ],
   "source": [
    "df.head()\n"
   ]
  },
  {
   "cell_type": "code",
   "execution_count": 39,
   "metadata": {},
   "outputs": [],
   "source": [
    "data = df.drop(columns=['Reviewer Name'])"
   ]
  },
  {
   "cell_type": "code",
   "execution_count": 40,
   "metadata": {},
   "outputs": [
    {
     "data": {
      "text/html": [
       "<div>\n",
       "<style scoped>\n",
       "    .dataframe tbody tr th:only-of-type {\n",
       "        vertical-align: middle;\n",
       "    }\n",
       "\n",
       "    .dataframe tbody tr th {\n",
       "        vertical-align: top;\n",
       "    }\n",
       "\n",
       "    .dataframe thead th {\n",
       "        text-align: right;\n",
       "    }\n",
       "</style>\n",
       "<table border=\"1\" class=\"dataframe\">\n",
       "  <thead>\n",
       "    <tr style=\"text-align: right;\">\n",
       "      <th></th>\n",
       "      <th>City</th>\n",
       "      <th>Review Title</th>\n",
       "      <th>Positive Review</th>\n",
       "      <th>Negative Review</th>\n",
       "    </tr>\n",
       "  </thead>\n",
       "  <tbody>\n",
       "    <tr>\n",
       "      <th>0</th>\n",
       "      <td>Sharm-ElSheikh</td>\n",
       "      <td>Wonderful</td>\n",
       "      <td>Facilities and Staff</td>\n",
       "      <td>No Negative Review</td>\n",
       "    </tr>\n",
       "    <tr>\n",
       "      <th>1</th>\n",
       "      <td>Sharm-ElSheikh</td>\n",
       "      <td>Excellent</td>\n",
       "      <td>Everything was perfect, all hotel crews are so...</td>\n",
       "      <td>No Negative Review</td>\n",
       "    </tr>\n",
       "    <tr>\n",
       "      <th>2</th>\n",
       "      <td>Sharm-ElSheikh</td>\n",
       "      <td>unbelievable relaxation experience</td>\n",
       "      <td>impeccable cleanliness with the manager checki...</td>\n",
       "      <td>posh club should be adults only although kids ...</td>\n",
       "    </tr>\n",
       "    <tr>\n",
       "      <th>3</th>\n",
       "      <td>Sharm-ElSheikh</td>\n",
       "      <td>Exceptional</td>\n",
       "      <td>The resort is beautiful, and the vibe is excit...</td>\n",
       "      <td>No Negative Review</td>\n",
       "    </tr>\n",
       "    <tr>\n",
       "      <th>4</th>\n",
       "      <td>Sharm-ElSheikh</td>\n",
       "      <td>Wonderful</td>\n",
       "      <td>Beautiful sea and location, comfortable and pi...</td>\n",
       "      <td>Restaurant service is not extraordinary. The c...</td>\n",
       "    </tr>\n",
       "    <tr>\n",
       "      <th>5</th>\n",
       "      <td>Sharm-ElSheikh</td>\n",
       "      <td>Unforgettable stay due to the Posh Club team!</td>\n",
       "      <td>Our stay at White Hills Resort is one we’ll ne...</td>\n",
       "      <td>The only negative things I’d say about our sta...</td>\n",
       "    </tr>\n",
       "    <tr>\n",
       "      <th>6</th>\n",
       "      <td>Sharm-ElSheikh</td>\n",
       "      <td>Very Good</td>\n",
       "      <td>The staff, food were great, service was amazing</td>\n",
       "      <td>Insect in the room was annoying, fire alarm wa...</td>\n",
       "    </tr>\n",
       "    <tr>\n",
       "      <th>7</th>\n",
       "      <td>Sharm-ElSheikh</td>\n",
       "      <td>Exceptional</td>\n",
       "      <td>Tamer and all staff is amazing. Posh Club is f...</td>\n",
       "      <td>No Negative Review</td>\n",
       "    </tr>\n",
       "    <tr>\n",
       "      <th>8</th>\n",
       "      <td>Sharm-ElSheikh</td>\n",
       "      <td>Good day</td>\n",
       "      <td>The resort was clean and view was amazing , en...</td>\n",
       "      <td>- the gulf car always late though it’s 5 stati...</td>\n",
       "    </tr>\n",
       "    <tr>\n",
       "      <th>9</th>\n",
       "      <td>Sharm-ElSheikh</td>\n",
       "      <td>Exceptional</td>\n",
       "      <td>Privacy and safety, activities, stuff, food, a...</td>\n",
       "      <td>Maybe nothing</td>\n",
       "    </tr>\n",
       "  </tbody>\n",
       "</table>\n",
       "</div>"
      ],
      "text/plain": [
       "             City                                   Review Title  \\\n",
       "0  Sharm-ElSheikh                                      Wonderful   \n",
       "1  Sharm-ElSheikh                                      Excellent   \n",
       "2  Sharm-ElSheikh             unbelievable relaxation experience   \n",
       "3  Sharm-ElSheikh                                    Exceptional   \n",
       "4  Sharm-ElSheikh                                      Wonderful   \n",
       "5  Sharm-ElSheikh  Unforgettable stay due to the Posh Club team!   \n",
       "6  Sharm-ElSheikh                                      Very Good   \n",
       "7  Sharm-ElSheikh                                    Exceptional   \n",
       "8  Sharm-ElSheikh                                       Good day   \n",
       "9  Sharm-ElSheikh                                    Exceptional   \n",
       "\n",
       "                                     Positive Review  \\\n",
       "0                               Facilities and Staff   \n",
       "1  Everything was perfect, all hotel crews are so...   \n",
       "2  impeccable cleanliness with the manager checki...   \n",
       "3  The resort is beautiful, and the vibe is excit...   \n",
       "4  Beautiful sea and location, comfortable and pi...   \n",
       "5  Our stay at White Hills Resort is one we’ll ne...   \n",
       "6    The staff, food were great, service was amazing   \n",
       "7  Tamer and all staff is amazing. Posh Club is f...   \n",
       "8  The resort was clean and view was amazing , en...   \n",
       "9  Privacy and safety, activities, stuff, food, a...   \n",
       "\n",
       "                                     Negative Review  \n",
       "0                                 No Negative Review  \n",
       "1                                 No Negative Review  \n",
       "2  posh club should be adults only although kids ...  \n",
       "3                                 No Negative Review  \n",
       "4  Restaurant service is not extraordinary. The c...  \n",
       "5  The only negative things I’d say about our sta...  \n",
       "6  Insect in the room was annoying, fire alarm wa...  \n",
       "7                                 No Negative Review  \n",
       "8  - the gulf car always late though it’s 5 stati...  \n",
       "9                                      Maybe nothing  "
      ]
     },
     "execution_count": 40,
     "metadata": {},
     "output_type": "execute_result"
    }
   ],
   "source": [
    "data.head(10)"
   ]
  },
  {
   "cell_type": "code",
   "execution_count": 41,
   "metadata": {},
   "outputs": [
    {
     "data": {
      "text/plain": [
       "City\n",
       "Sharm-ElSheikh    210\n",
       "Alexandria         30\n",
       "Name: count, dtype: int64"
      ]
     },
     "execution_count": 41,
     "metadata": {},
     "output_type": "execute_result"
    }
   ],
   "source": [
    "data['City'].value_counts()\n"
   ]
  },
  {
   "cell_type": "markdown",
   "metadata": {},
   "source": [
    "# data cleansing practice"
   ]
  },
  {
   "cell_type": "code",
   "execution_count": 42,
   "metadata": {},
   "outputs": [
    {
     "name": "stderr",
     "output_type": "stream",
     "text": [
      "<>:3: SyntaxWarning: invalid escape sequence '\\s'\n",
      "<>:4: SyntaxWarning: invalid escape sequence '\\s'\n",
      "<>:5: SyntaxWarning: invalid escape sequence '\\s'\n",
      "<>:6: SyntaxWarning: invalid escape sequence '\\s'\n",
      "<>:3: SyntaxWarning: invalid escape sequence '\\s'\n",
      "<>:4: SyntaxWarning: invalid escape sequence '\\s'\n",
      "<>:5: SyntaxWarning: invalid escape sequence '\\s'\n",
      "<>:6: SyntaxWarning: invalid escape sequence '\\s'\n",
      "C:\\Users\\keror\\AppData\\Local\\Temp\\ipykernel_9652\\412736757.py:3: SyntaxWarning: invalid escape sequence '\\s'\n",
      "  data['City']= data['City'].apply(lambda x : re.sub('([^a-zA-Z\\s])',' ',x))\n",
      "C:\\Users\\keror\\AppData\\Local\\Temp\\ipykernel_9652\\412736757.py:4: SyntaxWarning: invalid escape sequence '\\s'\n",
      "  data['Negative Review']= data['Negative Review'].apply(lambda x : re.sub('([^a-zA-Z\\s])',' ',x) if isinstance(x, str) else x)\n",
      "C:\\Users\\keror\\AppData\\Local\\Temp\\ipykernel_9652\\412736757.py:5: SyntaxWarning: invalid escape sequence '\\s'\n",
      "  data['Positive Review']= data['Positive Review'].apply(lambda x : re.sub('([^a-zA-Z\\s])',' ',x) if isinstance(x, str) else x)\n",
      "C:\\Users\\keror\\AppData\\Local\\Temp\\ipykernel_9652\\412736757.py:6: SyntaxWarning: invalid escape sequence '\\s'\n",
      "  data['Review Title']= data['Review Title'].apply(lambda x : re.sub('([^a-zA-Z\\s])',' ',x) if isinstance(x, str) else x)\n"
     ]
    }
   ],
   "source": [
    "#using only english charactes \n",
    "\n",
    "data['City']= data['City'].apply(lambda x : re.sub('([^a-zA-Z\\s])',' ',x))\n",
    "data['Negative Review']= data['Negative Review'].apply(lambda x : re.sub('([^a-zA-Z\\s])',' ',x) if isinstance(x, str) else x)\n",
    "data['Positive Review']= data['Positive Review'].apply(lambda x : re.sub('([^a-zA-Z\\s])',' ',x) if isinstance(x, str) else x)\n",
    "data['Review Title']= data['Review Title'].apply(lambda x : re.sub('([^a-zA-Z\\s])',' ',x) if isinstance(x, str) else x)"
   ]
  },
  {
   "cell_type": "code",
   "execution_count": null,
   "metadata": {},
   "outputs": [],
   "source": []
  },
  {
   "cell_type": "code",
   "execution_count": 44,
   "metadata": {},
   "outputs": [
    {
     "name": "stderr",
     "output_type": "stream",
     "text": [
      "<>:3: SyntaxWarning: invalid escape sequence '\\s'\n",
      "<>:4: SyntaxWarning: invalid escape sequence '\\s'\n",
      "<>:5: SyntaxWarning: invalid escape sequence '\\s'\n",
      "<>:6: SyntaxWarning: invalid escape sequence '\\s'\n",
      "<>:3: SyntaxWarning: invalid escape sequence '\\s'\n",
      "<>:4: SyntaxWarning: invalid escape sequence '\\s'\n",
      "<>:5: SyntaxWarning: invalid escape sequence '\\s'\n",
      "<>:6: SyntaxWarning: invalid escape sequence '\\s'\n",
      "C:\\Users\\keror\\AppData\\Local\\Temp\\ipykernel_9652\\2789959937.py:3: SyntaxWarning: invalid escape sequence '\\s'\n",
      "  data['City']= data['City'].apply(lambda x : re.sub('(\\s){2,}',' ',x))\n",
      "C:\\Users\\keror\\AppData\\Local\\Temp\\ipykernel_9652\\2789959937.py:4: SyntaxWarning: invalid escape sequence '\\s'\n",
      "  data['Negative Review']= data['Negative Review'].apply(lambda x : re.sub('(\\s){2,}',' ',x) if isinstance(x, str) else x)\n",
      "C:\\Users\\keror\\AppData\\Local\\Temp\\ipykernel_9652\\2789959937.py:5: SyntaxWarning: invalid escape sequence '\\s'\n",
      "  data['Positive Review']= data['Positive Review'].apply(lambda x : re.sub('(\\s){2,}',' ',x) if isinstance(x, str) else x)\n",
      "C:\\Users\\keror\\AppData\\Local\\Temp\\ipykernel_9652\\2789959937.py:6: SyntaxWarning: invalid escape sequence '\\s'\n",
      "  data['Review Title']= data['Review Title'].apply(lambda x : re.sub('(\\s){2,}',' ',x) if isinstance(x, str) else x)\n"
     ]
    }
   ],
   "source": [
    "# remove additional spaces\n",
    "\n",
    "data['City']= data['City'].apply(lambda x : re.sub('(\\s){2,}',' ',x))\n",
    "data['Negative Review']= data['Negative Review'].apply(lambda x : re.sub('(\\s){2,}',' ',x) if isinstance(x, str) else x)\n",
    "data['Positive Review']= data['Positive Review'].apply(lambda x : re.sub('(\\s){2,}',' ',x) if isinstance(x, str) else x)\n",
    "data['Review Title']= data['Review Title'].apply(lambda x : re.sub('(\\s){2,}',' ',x) if isinstance(x, str) else x)"
   ]
  },
  {
   "cell_type": "code",
   "execution_count": null,
   "metadata": {},
   "outputs": [],
   "source": []
  },
  {
   "cell_type": "code",
   "execution_count": 52,
   "metadata": {},
   "outputs": [],
   "source": [
    "#remove the spaces at the start and the end of the string\n",
    "\n",
    "data['City'] = data['City'].apply(lambda x : x.strip() )\n",
    "data['Negative Review'] = data['Negative Review'].apply(lambda x : x.strip() if isinstance(x, str) else x )\n",
    "data['Positive Review'] = data['Positive Review'].apply(lambda x : x.strip() if isinstance(x, str) else x)\n",
    "data['Review Title'] = data['Review Title'].apply(lambda x : x.strip() if isinstance(x, str) else x)\n"
   ]
  },
  {
   "cell_type": "code",
   "execution_count": null,
   "metadata": {},
   "outputs": [],
   "source": []
  },
  {
   "cell_type": "code",
   "execution_count": null,
   "metadata": {},
   "outputs": [],
   "source": [
    "# make all data in lower case\n",
    "\n",
    "data['City'] = data['City'].apply(lambda x : x.lower() )\n",
    "data['Negative Review'] = data['Negative Review'].apply(lambda x : x.lower() if isinstance(x, str) else x )\n",
    "data['Positive Review'] = data['Positive Review'].apply(lambda x : x.lower() if isinstance(x, str) else x)\n",
    "data['Review Title'] = data['Review Title'].apply(lambda x : x.lower() if isinstance(x, str) else x)"
   ]
  },
  {
   "cell_type": "code",
   "execution_count": null,
   "metadata": {},
   "outputs": [],
   "source": []
  }
 ],
 "metadata": {
  "kernelspec": {
   "display_name": "base",
   "language": "python",
   "name": "python3"
  },
  "language_info": {
   "codemirror_mode": {
    "name": "ipython",
    "version": 3
   },
   "file_extension": ".py",
   "mimetype": "text/x-python",
   "name": "python",
   "nbconvert_exporter": "python",
   "pygments_lexer": "ipython3",
   "version": "3.12.4"
  }
 },
 "nbformat": 4,
 "nbformat_minor": 2
}
