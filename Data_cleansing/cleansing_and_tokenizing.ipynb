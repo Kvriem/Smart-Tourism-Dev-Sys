{
 "cells": [
  {
   "cell_type": "code",
   "execution_count": 37,
   "metadata": {},
   "outputs": [
    {
     "name": "stderr",
     "output_type": "stream",
     "text": [
      "[nltk_data] Downloading package stopwords to\n",
      "[nltk_data]     C:\\Users\\keror\\AppData\\Roaming\\nltk_data...\n",
      "[nltk_data]   Package stopwords is already up-to-date!\n",
      "[nltk_data] Downloading package punkt to\n",
      "[nltk_data]     C:\\Users\\keror\\AppData\\Roaming\\nltk_data...\n",
      "[nltk_data]   Package punkt is already up-to-date!\n"
     ]
    }
   ],
   "source": [
    "import pandas as pd\n",
    "import numpy as np\n",
    "import re\n",
    "import nltk\n",
    "from nltk.corpus import stopwords\n",
    "from nltk.tokenize import word_tokenize\n",
    "nltk.download('stopwords')\n",
    "nltk.download('punkt')\n",
    "from sklearn.feature_extraction.text import TfidfVectorizer\n"
   ]
  },
  {
   "cell_type": "code",
   "execution_count": 77,
   "metadata": {},
   "outputs": [],
   "source": [
    "df = pd.read_csv('hotels_reviews3.csv')"
   ]
  },
  {
   "cell_type": "code",
   "execution_count": 114,
   "metadata": {},
   "outputs": [
    {
     "data": {
      "text/plain": [
       "(30, 21)"
      ]
     },
     "execution_count": 114,
     "metadata": {},
     "output_type": "execute_result"
    }
   ],
   "source": [
    "df.shape"
   ]
  },
  {
   "cell_type": "code",
   "execution_count": 78,
   "metadata": {},
   "outputs": [
    {
     "data": {
      "text/html": [
       "<div>\n",
       "<style scoped>\n",
       "    .dataframe tbody tr th:only-of-type {\n",
       "        vertical-align: middle;\n",
       "    }\n",
       "\n",
       "    .dataframe tbody tr th {\n",
       "        vertical-align: top;\n",
       "    }\n",
       "\n",
       "    .dataframe thead th {\n",
       "        text-align: right;\n",
       "    }\n",
       "</style>\n",
       "<table border=\"1\" class=\"dataframe\">\n",
       "  <thead>\n",
       "    <tr style=\"text-align: right;\">\n",
       "      <th></th>\n",
       "      <th>City</th>\n",
       "      <th>Hotel Name</th>\n",
       "      <th>Reviewer Name</th>\n",
       "      <th>Reviewer Nationality</th>\n",
       "      <th>Duration</th>\n",
       "      <th>Check-in Date</th>\n",
       "      <th>Travel Type</th>\n",
       "      <th>Room Type</th>\n",
       "      <th>Review Date</th>\n",
       "      <th>Positive Review</th>\n",
       "      <th>Negative Review</th>\n",
       "    </tr>\n",
       "  </thead>\n",
       "  <tbody>\n",
       "    <tr>\n",
       "      <th>0</th>\n",
       "      <td>Tolip Hotel Alexandria (Hotel) (Egypt) Deals</td>\n",
       "      <td>Tolip Hotel Alexandria</td>\n",
       "      <td>Annabel</td>\n",
       "      <td>Guernsey</td>\n",
       "      <td>1 night ·</td>\n",
       "      <td>December 2024</td>\n",
       "      <td>Family</td>\n",
       "      <td>Deluxe Double or Twin Room with Sea and Pool View</td>\n",
       "      <td>Reviewed: January 4, 2025</td>\n",
       "      <td>Excellent buffet breakfast with wide range of ...</td>\n",
       "      <td>No Negative Feedback</td>\n",
       "    </tr>\n",
       "    <tr>\n",
       "      <th>1</th>\n",
       "      <td>Tolip Hotel Alexandria (Hotel) (Egypt) Deals</td>\n",
       "      <td>Tolip Hotel Alexandria</td>\n",
       "      <td>Yasmeen</td>\n",
       "      <td>Yemen</td>\n",
       "      <td>1 night ·</td>\n",
       "      <td>January 2025</td>\n",
       "      <td>Group</td>\n",
       "      <td>Family Room Side Sea View</td>\n",
       "      <td>Reviewed: January 7, 2025</td>\n",
       "      <td>All was very good</td>\n",
       "      <td>I like everything but The net was weak only</td>\n",
       "    </tr>\n",
       "    <tr>\n",
       "      <th>2</th>\n",
       "      <td>Tolip Hotel Alexandria (Hotel) (Egypt) Deals</td>\n",
       "      <td>Tolip Hotel Alexandria</td>\n",
       "      <td>Sharafeldin</td>\n",
       "      <td>Egypt</td>\n",
       "      <td>1 night ·</td>\n",
       "      <td>January 2025</td>\n",
       "      <td>Family</td>\n",
       "      <td>Special Offer - Double or Twin Room with Side ...</td>\n",
       "      <td>Reviewed: January 6, 2025</td>\n",
       "      <td>The view was very good\\r\\nThe breakfast was ex...</td>\n",
       "      <td>The parking was not free and you have to pay 1...</td>\n",
       "    </tr>\n",
       "    <tr>\n",
       "      <th>3</th>\n",
       "      <td>Tolip Hotel Alexandria (Hotel) (Egypt) Deals</td>\n",
       "      <td>Tolip Hotel Alexandria</td>\n",
       "      <td>Yaswah</td>\n",
       "      <td>Egypt</td>\n",
       "      <td>2 nights ·</td>\n",
       "      <td>January 2025</td>\n",
       "      <td>Group</td>\n",
       "      <td>Special Offer - Family Room with Side Sea View...</td>\n",
       "      <td>Reviewed: January 5, 2025</td>\n",
       "      <td>Good value for money</td>\n",
       "      <td>Despite 6th floor very noisy street traffic.\\r...</td>\n",
       "    </tr>\n",
       "    <tr>\n",
       "      <th>4</th>\n",
       "      <td>Tolip Hotel Alexandria (Hotel) (Egypt) Deals</td>\n",
       "      <td>Tolip Hotel Alexandria</td>\n",
       "      <td>Fatima</td>\n",
       "      <td>United Arab Emirates</td>\n",
       "      <td>4 nights ·</td>\n",
       "      <td>January 2025</td>\n",
       "      <td>Couple</td>\n",
       "      <td>Special Offer - Deluxe Room with City View - E...</td>\n",
       "      <td>Reviewed: January 5, 2025</td>\n",
       "      <td>Location and facilities and view</td>\n",
       "      <td>Bathroom maintenance and quality of towels and...</td>\n",
       "    </tr>\n",
       "  </tbody>\n",
       "</table>\n",
       "</div>"
      ],
      "text/plain": [
       "                                           City              Hotel Name  \\\n",
       "0  Tolip Hotel Alexandria (Hotel) (Egypt) Deals  Tolip Hotel Alexandria   \n",
       "1  Tolip Hotel Alexandria (Hotel) (Egypt) Deals  Tolip Hotel Alexandria   \n",
       "2  Tolip Hotel Alexandria (Hotel) (Egypt) Deals  Tolip Hotel Alexandria   \n",
       "3  Tolip Hotel Alexandria (Hotel) (Egypt) Deals  Tolip Hotel Alexandria   \n",
       "4  Tolip Hotel Alexandria (Hotel) (Egypt) Deals  Tolip Hotel Alexandria   \n",
       "\n",
       "  Reviewer Name  Reviewer Nationality     Duration  Check-in Date Travel Type  \\\n",
       "0       Annabel              Guernsey   1 night ·   December 2024      Family   \n",
       "1       Yasmeen                 Yemen   1 night ·    January 2025       Group   \n",
       "2   Sharafeldin                 Egypt   1 night ·    January 2025      Family   \n",
       "3        Yaswah                 Egypt  2 nights ·    January 2025       Group   \n",
       "4        Fatima  United Arab Emirates  4 nights ·    January 2025      Couple   \n",
       "\n",
       "                                           Room Type  \\\n",
       "0  Deluxe Double or Twin Room with Sea and Pool View   \n",
       "1                          Family Room Side Sea View   \n",
       "2  Special Offer - Double or Twin Room with Side ...   \n",
       "3  Special Offer - Family Room with Side Sea View...   \n",
       "4  Special Offer - Deluxe Room with City View - E...   \n",
       "\n",
       "                 Review Date  \\\n",
       "0  Reviewed: January 4, 2025   \n",
       "1  Reviewed: January 7, 2025   \n",
       "2  Reviewed: January 6, 2025   \n",
       "3  Reviewed: January 5, 2025   \n",
       "4  Reviewed: January 5, 2025   \n",
       "\n",
       "                                     Positive Review  \\\n",
       "0  Excellent buffet breakfast with wide range of ...   \n",
       "1                                  All was very good   \n",
       "2  The view was very good\\r\\nThe breakfast was ex...   \n",
       "3                               Good value for money   \n",
       "4                   Location and facilities and view   \n",
       "\n",
       "                                     Negative Review  \n",
       "0                               No Negative Feedback  \n",
       "1        I like everything but The net was weak only  \n",
       "2  The parking was not free and you have to pay 1...  \n",
       "3  Despite 6th floor very noisy street traffic.\\r...  \n",
       "4  Bathroom maintenance and quality of towels and...  "
      ]
     },
     "execution_count": 78,
     "metadata": {},
     "output_type": "execute_result"
    }
   ],
   "source": [
    "df.head()"
   ]
  },
  {
   "cell_type": "code",
   "execution_count": 80,
   "metadata": {},
   "outputs": [
    {
     "data": {
      "text/plain": [
       "Duration\n",
       "1 night ·      17\n",
       "2 nights ·      9\n",
       "4 nights ·      3\n",
       "3 nights ·      1\n",
       "Name: count, dtype: int64"
      ]
     },
     "execution_count": 80,
     "metadata": {},
     "output_type": "execute_result"
    }
   ],
   "source": [
    "df['Duration'].value_counts()"
   ]
  },
  {
   "cell_type": "code",
   "execution_count": 81,
   "metadata": {},
   "outputs": [
    {
     "data": {
      "text/plain": [
       "0"
      ]
     },
     "execution_count": 81,
     "metadata": {},
     "output_type": "execute_result"
    }
   ],
   "source": [
    "df['Positive Review'].isna().sum()"
   ]
  },
  {
   "cell_type": "code",
   "execution_count": 82,
   "metadata": {},
   "outputs": [
    {
     "data": {
      "text/plain": [
       "Travel Type\n",
       "Family           12\n",
       "Solo traveler     7\n",
       "Couple            6\n",
       "Group             5\n",
       "Name: count, dtype: int64"
      ]
     },
     "execution_count": 82,
     "metadata": {},
     "output_type": "execute_result"
    }
   ],
   "source": [
    "df['Travel Type'].value_counts()"
   ]
  },
  {
   "cell_type": "code",
   "execution_count": 84,
   "metadata": {},
   "outputs": [],
   "source": [
    "matching_rows = df.loc[(df[\"Duration\"] == 'Duration') & (df[\"Travel Type\"] == 'Travel Type')].index"
   ]
  },
  {
   "cell_type": "code",
   "execution_count": 85,
   "metadata": {},
   "outputs": [],
   "source": [
    "df.drop(matching_rows, inplace = True)"
   ]
  },
  {
   "cell_type": "code",
   "execution_count": 86,
   "metadata": {},
   "outputs": [
    {
     "data": {
      "text/plain": [
       "Hotel Name\n",
       "Tolip Hotel Alexandria           10\n",
       "Charming Miramar Aparthotel      10\n",
       "ZAFERO POREFAG- Families only    10\n",
       "Name: count, dtype: int64"
      ]
     },
     "execution_count": 86,
     "metadata": {},
     "output_type": "execute_result"
    }
   ],
   "source": [
    "df['Hotel Name'].value_counts()"
   ]
  },
  {
   "cell_type": "code",
   "execution_count": 87,
   "metadata": {},
   "outputs": [
    {
     "data": {
      "text/plain": [
       "Duration\n",
       "1 night ·      17\n",
       "2 nights ·      9\n",
       "4 nights ·      3\n",
       "3 nights ·      1\n",
       "Name: count, dtype: int64"
      ]
     },
     "execution_count": 87,
     "metadata": {},
     "output_type": "execute_result"
    }
   ],
   "source": [
    "df['Duration'].value_counts()"
   ]
  },
  {
   "cell_type": "code",
   "execution_count": 88,
   "metadata": {},
   "outputs": [
    {
     "data": {
      "text/plain": [
       "Room Type\n",
       "Apartment with Sea View                                                                    13\n",
       "Two-Bedroom Apartment                                                                       7\n",
       "Special Offer - Deluxe Room with City View - Egyptians and Residents Only                   4\n",
       "Special Offer - Double or Twin Room with Side Sea View - Egyptians and Residents Only       2\n",
       "Deluxe Double or Twin Room with Sea and Pool View                                           1\n",
       "Family Room Side Sea View                                                                   1\n",
       "Special Offer - Family Room with Side Sea View - Egyptians and Residents Only               1\n",
       "Special Offer - One-Bedroom Suite with Sea and Pool View - Egyptians and Residents Only     1\n",
       "Name: count, dtype: int64"
      ]
     },
     "execution_count": 88,
     "metadata": {},
     "output_type": "execute_result"
    }
   ],
   "source": [
    "df['Room Type'].value_counts()"
   ]
  },
  {
   "cell_type": "code",
   "execution_count": 89,
   "metadata": {},
   "outputs": [
    {
     "data": {
      "text/plain": [
       "Check-in Date\n",
       "January 2025     7\n",
       "December 2024    3\n",
       "August 2023      3\n",
       "April 2023       2\n",
       "May 2023         2\n",
       "November 2024    2\n",
       "June 2023        2\n",
       "February 2023    1\n",
       "November 2022    1\n",
       "June 2024        1\n",
       "October 2023     1\n",
       "July 2023        1\n",
       "July 2022        1\n",
       "June 2022        1\n",
       "March 2022       1\n",
       "August 2022      1\n",
       "Name: count, dtype: int64"
      ]
     },
     "execution_count": 89,
     "metadata": {},
     "output_type": "execute_result"
    }
   ],
   "source": [
    "df['Check-in Date'].value_counts()"
   ]
  },
  {
   "cell_type": "code",
   "execution_count": 90,
   "metadata": {},
   "outputs": [
    {
     "data": {
      "text/plain": [
       "Review Date\n",
       "Reviewed: January 5, 2025       2\n",
       "Reviewed: January 3, 2025       2\n",
       "Reviewed: January 1, 2025       2\n",
       "Reviewed: January 4, 2025       1\n",
       "Reviewed: August 31, 2023       1\n",
       "Reviewed: June 8, 2023          1\n",
       "Reviewed: March 16, 2022        1\n",
       "Reviewed: June 21, 2022         1\n",
       "Reviewed: July 21, 2022         1\n",
       "Reviewed: July 27, 2023         1\n",
       "Reviewed: October 13, 2023      1\n",
       "Reviewed: June 17, 2024         1\n",
       "Reviewed: November 20, 2024     1\n",
       "Reviewed: May 7, 2023           1\n",
       "Reviewed: June 1, 2023          1\n",
       "Reviewed: November 14, 2022     1\n",
       "Reviewed: November 15, 2024     1\n",
       "Reviewed: January 7, 2025       1\n",
       "Reviewed: February 8, 2023      1\n",
       "Reviewed: April 27, 2023        1\n",
       "Reviewed: May 25, 2023          1\n",
       "Reviewed: August 30, 2023       1\n",
       "Reviewed: September 11, 2023    1\n",
       "Reviewed: April 12, 2023        1\n",
       "Reviewed: January 2, 2025       1\n",
       "Reviewed: January 6, 2025       1\n",
       "Reviewed: August 28, 2022       1\n",
       "Name: count, dtype: int64"
      ]
     },
     "execution_count": 90,
     "metadata": {},
     "output_type": "execute_result"
    }
   ],
   "source": [
    "df['Review Date'].value_counts()"
   ]
  },
  {
   "cell_type": "code",
   "execution_count": 91,
   "metadata": {},
   "outputs": [],
   "source": [
    "data = df"
   ]
  },
  {
   "cell_type": "markdown",
   "metadata": {},
   "source": [
    "# cleaning phase\n"
   ]
  },
  {
   "cell_type": "code",
   "execution_count": 92,
   "metadata": {},
   "outputs": [
    {
     "data": {
      "text/html": [
       "<div>\n",
       "<style scoped>\n",
       "    .dataframe tbody tr th:only-of-type {\n",
       "        vertical-align: middle;\n",
       "    }\n",
       "\n",
       "    .dataframe tbody tr th {\n",
       "        vertical-align: top;\n",
       "    }\n",
       "\n",
       "    .dataframe thead th {\n",
       "        text-align: right;\n",
       "    }\n",
       "</style>\n",
       "<table border=\"1\" class=\"dataframe\">\n",
       "  <thead>\n",
       "    <tr style=\"text-align: right;\">\n",
       "      <th></th>\n",
       "      <th>City</th>\n",
       "      <th>Hotel Name</th>\n",
       "      <th>Reviewer Name</th>\n",
       "      <th>Reviewer Nationality</th>\n",
       "      <th>Duration</th>\n",
       "      <th>Check-in Date</th>\n",
       "      <th>Travel Type</th>\n",
       "      <th>Room Type</th>\n",
       "      <th>Review Date</th>\n",
       "      <th>Positive Review</th>\n",
       "      <th>Negative Review</th>\n",
       "    </tr>\n",
       "  </thead>\n",
       "  <tbody>\n",
       "    <tr>\n",
       "      <th>0</th>\n",
       "      <td>Tolip Hotel Alexandria (Hotel) (Egypt) Deals</td>\n",
       "      <td>Tolip Hotel Alexandria</td>\n",
       "      <td>Annabel</td>\n",
       "      <td>Guernsey</td>\n",
       "      <td>1 night ·</td>\n",
       "      <td>December 2024</td>\n",
       "      <td>Family</td>\n",
       "      <td>Deluxe Double or Twin Room with Sea and Pool View</td>\n",
       "      <td>Reviewed: January 4, 2025</td>\n",
       "      <td>Excellent buffet breakfast with wide range of ...</td>\n",
       "      <td>No Negative Feedback</td>\n",
       "    </tr>\n",
       "    <tr>\n",
       "      <th>1</th>\n",
       "      <td>Tolip Hotel Alexandria (Hotel) (Egypt) Deals</td>\n",
       "      <td>Tolip Hotel Alexandria</td>\n",
       "      <td>Yasmeen</td>\n",
       "      <td>Yemen</td>\n",
       "      <td>1 night ·</td>\n",
       "      <td>January 2025</td>\n",
       "      <td>Group</td>\n",
       "      <td>Family Room Side Sea View</td>\n",
       "      <td>Reviewed: January 7, 2025</td>\n",
       "      <td>All was very good</td>\n",
       "      <td>I like everything but The net was weak only</td>\n",
       "    </tr>\n",
       "    <tr>\n",
       "      <th>2</th>\n",
       "      <td>Tolip Hotel Alexandria (Hotel) (Egypt) Deals</td>\n",
       "      <td>Tolip Hotel Alexandria</td>\n",
       "      <td>Sharafeldin</td>\n",
       "      <td>Egypt</td>\n",
       "      <td>1 night ·</td>\n",
       "      <td>January 2025</td>\n",
       "      <td>Family</td>\n",
       "      <td>Special Offer - Double or Twin Room with Side ...</td>\n",
       "      <td>Reviewed: January 6, 2025</td>\n",
       "      <td>The view was very good\\r\\nThe breakfast was ex...</td>\n",
       "      <td>The parking was not free and you have to pay 1...</td>\n",
       "    </tr>\n",
       "    <tr>\n",
       "      <th>3</th>\n",
       "      <td>Tolip Hotel Alexandria (Hotel) (Egypt) Deals</td>\n",
       "      <td>Tolip Hotel Alexandria</td>\n",
       "      <td>Yaswah</td>\n",
       "      <td>Egypt</td>\n",
       "      <td>2 nights ·</td>\n",
       "      <td>January 2025</td>\n",
       "      <td>Group</td>\n",
       "      <td>Special Offer - Family Room with Side Sea View...</td>\n",
       "      <td>Reviewed: January 5, 2025</td>\n",
       "      <td>Good value for money</td>\n",
       "      <td>Despite 6th floor very noisy street traffic.\\r...</td>\n",
       "    </tr>\n",
       "    <tr>\n",
       "      <th>4</th>\n",
       "      <td>Tolip Hotel Alexandria (Hotel) (Egypt) Deals</td>\n",
       "      <td>Tolip Hotel Alexandria</td>\n",
       "      <td>Fatima</td>\n",
       "      <td>United Arab Emirates</td>\n",
       "      <td>4 nights ·</td>\n",
       "      <td>January 2025</td>\n",
       "      <td>Couple</td>\n",
       "      <td>Special Offer - Deluxe Room with City View - E...</td>\n",
       "      <td>Reviewed: January 5, 2025</td>\n",
       "      <td>Location and facilities and view</td>\n",
       "      <td>Bathroom maintenance and quality of towels and...</td>\n",
       "    </tr>\n",
       "  </tbody>\n",
       "</table>\n",
       "</div>"
      ],
      "text/plain": [
       "                                           City              Hotel Name  \\\n",
       "0  Tolip Hotel Alexandria (Hotel) (Egypt) Deals  Tolip Hotel Alexandria   \n",
       "1  Tolip Hotel Alexandria (Hotel) (Egypt) Deals  Tolip Hotel Alexandria   \n",
       "2  Tolip Hotel Alexandria (Hotel) (Egypt) Deals  Tolip Hotel Alexandria   \n",
       "3  Tolip Hotel Alexandria (Hotel) (Egypt) Deals  Tolip Hotel Alexandria   \n",
       "4  Tolip Hotel Alexandria (Hotel) (Egypt) Deals  Tolip Hotel Alexandria   \n",
       "\n",
       "  Reviewer Name  Reviewer Nationality     Duration  Check-in Date Travel Type  \\\n",
       "0       Annabel              Guernsey   1 night ·   December 2024      Family   \n",
       "1       Yasmeen                 Yemen   1 night ·    January 2025       Group   \n",
       "2   Sharafeldin                 Egypt   1 night ·    January 2025      Family   \n",
       "3        Yaswah                 Egypt  2 nights ·    January 2025       Group   \n",
       "4        Fatima  United Arab Emirates  4 nights ·    January 2025      Couple   \n",
       "\n",
       "                                           Room Type  \\\n",
       "0  Deluxe Double or Twin Room with Sea and Pool View   \n",
       "1                          Family Room Side Sea View   \n",
       "2  Special Offer - Double or Twin Room with Side ...   \n",
       "3  Special Offer - Family Room with Side Sea View...   \n",
       "4  Special Offer - Deluxe Room with City View - E...   \n",
       "\n",
       "                 Review Date  \\\n",
       "0  Reviewed: January 4, 2025   \n",
       "1  Reviewed: January 7, 2025   \n",
       "2  Reviewed: January 6, 2025   \n",
       "3  Reviewed: January 5, 2025   \n",
       "4  Reviewed: January 5, 2025   \n",
       "\n",
       "                                     Positive Review  \\\n",
       "0  Excellent buffet breakfast with wide range of ...   \n",
       "1                                  All was very good   \n",
       "2  The view was very good\\r\\nThe breakfast was ex...   \n",
       "3                               Good value for money   \n",
       "4                   Location and facilities and view   \n",
       "\n",
       "                                     Negative Review  \n",
       "0                               No Negative Feedback  \n",
       "1        I like everything but The net was weak only  \n",
       "2  The parking was not free and you have to pay 1...  \n",
       "3  Despite 6th floor very noisy street traffic.\\r...  \n",
       "4  Bathroom maintenance and quality of towels and...  "
      ]
     },
     "execution_count": 92,
     "metadata": {},
     "output_type": "execute_result"
    }
   ],
   "source": [
    "data.head()"
   ]
  },
  {
   "cell_type": "markdown",
   "metadata": {},
   "source": [
    "extacting only the city name from first column"
   ]
  },
  {
   "cell_type": "code",
   "execution_count": 93,
   "metadata": {},
   "outputs": [],
   "source": [
    "cities = ['Alexandria' , 'Sharm-ElShiekh', 'Luxor' , 'Aswan' , 'Hurghada' , 'Cairo']\n",
    "\n",
    "def extract_city(record, city_list):\n",
    "    for city in city_list:\n",
    "        if city.lower() in record.lower():  \n",
    "            return city\n",
    "    return None  \n",
    "\n",
    "\n",
    "data[\"City\"] = data[\"City\"].apply(lambda x: extract_city(x, cities))"
   ]
  },
  {
   "cell_type": "code",
   "execution_count": 94,
   "metadata": {},
   "outputs": [
    {
     "data": {
      "text/html": [
       "<div>\n",
       "<style scoped>\n",
       "    .dataframe tbody tr th:only-of-type {\n",
       "        vertical-align: middle;\n",
       "    }\n",
       "\n",
       "    .dataframe tbody tr th {\n",
       "        vertical-align: top;\n",
       "    }\n",
       "\n",
       "    .dataframe thead th {\n",
       "        text-align: right;\n",
       "    }\n",
       "</style>\n",
       "<table border=\"1\" class=\"dataframe\">\n",
       "  <thead>\n",
       "    <tr style=\"text-align: right;\">\n",
       "      <th></th>\n",
       "      <th>City</th>\n",
       "      <th>Hotel Name</th>\n",
       "      <th>Reviewer Name</th>\n",
       "      <th>Reviewer Nationality</th>\n",
       "      <th>Duration</th>\n",
       "      <th>Check-in Date</th>\n",
       "      <th>Travel Type</th>\n",
       "      <th>Room Type</th>\n",
       "      <th>Review Date</th>\n",
       "      <th>Positive Review</th>\n",
       "      <th>Negative Review</th>\n",
       "    </tr>\n",
       "  </thead>\n",
       "  <tbody>\n",
       "    <tr>\n",
       "      <th>0</th>\n",
       "      <td>Alexandria</td>\n",
       "      <td>Tolip Hotel Alexandria</td>\n",
       "      <td>Annabel</td>\n",
       "      <td>Guernsey</td>\n",
       "      <td>1 night ·</td>\n",
       "      <td>December 2024</td>\n",
       "      <td>Family</td>\n",
       "      <td>Deluxe Double or Twin Room with Sea and Pool View</td>\n",
       "      <td>Reviewed: January 4, 2025</td>\n",
       "      <td>Excellent buffet breakfast with wide range of ...</td>\n",
       "      <td>No Negative Feedback</td>\n",
       "    </tr>\n",
       "    <tr>\n",
       "      <th>1</th>\n",
       "      <td>Alexandria</td>\n",
       "      <td>Tolip Hotel Alexandria</td>\n",
       "      <td>Yasmeen</td>\n",
       "      <td>Yemen</td>\n",
       "      <td>1 night ·</td>\n",
       "      <td>January 2025</td>\n",
       "      <td>Group</td>\n",
       "      <td>Family Room Side Sea View</td>\n",
       "      <td>Reviewed: January 7, 2025</td>\n",
       "      <td>All was very good</td>\n",
       "      <td>I like everything but The net was weak only</td>\n",
       "    </tr>\n",
       "    <tr>\n",
       "      <th>2</th>\n",
       "      <td>Alexandria</td>\n",
       "      <td>Tolip Hotel Alexandria</td>\n",
       "      <td>Sharafeldin</td>\n",
       "      <td>Egypt</td>\n",
       "      <td>1 night ·</td>\n",
       "      <td>January 2025</td>\n",
       "      <td>Family</td>\n",
       "      <td>Special Offer - Double or Twin Room with Side ...</td>\n",
       "      <td>Reviewed: January 6, 2025</td>\n",
       "      <td>The view was very good\\r\\nThe breakfast was ex...</td>\n",
       "      <td>The parking was not free and you have to pay 1...</td>\n",
       "    </tr>\n",
       "    <tr>\n",
       "      <th>3</th>\n",
       "      <td>Alexandria</td>\n",
       "      <td>Tolip Hotel Alexandria</td>\n",
       "      <td>Yaswah</td>\n",
       "      <td>Egypt</td>\n",
       "      <td>2 nights ·</td>\n",
       "      <td>January 2025</td>\n",
       "      <td>Group</td>\n",
       "      <td>Special Offer - Family Room with Side Sea View...</td>\n",
       "      <td>Reviewed: January 5, 2025</td>\n",
       "      <td>Good value for money</td>\n",
       "      <td>Despite 6th floor very noisy street traffic.\\r...</td>\n",
       "    </tr>\n",
       "    <tr>\n",
       "      <th>4</th>\n",
       "      <td>Alexandria</td>\n",
       "      <td>Tolip Hotel Alexandria</td>\n",
       "      <td>Fatima</td>\n",
       "      <td>United Arab Emirates</td>\n",
       "      <td>4 nights ·</td>\n",
       "      <td>January 2025</td>\n",
       "      <td>Couple</td>\n",
       "      <td>Special Offer - Deluxe Room with City View - E...</td>\n",
       "      <td>Reviewed: January 5, 2025</td>\n",
       "      <td>Location and facilities and view</td>\n",
       "      <td>Bathroom maintenance and quality of towels and...</td>\n",
       "    </tr>\n",
       "    <tr>\n",
       "      <th>5</th>\n",
       "      <td>Alexandria</td>\n",
       "      <td>Tolip Hotel Alexandria</td>\n",
       "      <td>Hesham</td>\n",
       "      <td>Egypt</td>\n",
       "      <td>1 night ·</td>\n",
       "      <td>December 2024</td>\n",
       "      <td>Couple</td>\n",
       "      <td>Special Offer - Double or Twin Room with Side ...</td>\n",
       "      <td>Reviewed: January 3, 2025</td>\n",
       "      <td>Great</td>\n",
       "      <td>Nice place and location</td>\n",
       "    </tr>\n",
       "    <tr>\n",
       "      <th>6</th>\n",
       "      <td>Alexandria</td>\n",
       "      <td>Tolip Hotel Alexandria</td>\n",
       "      <td>Dr</td>\n",
       "      <td>Egypt</td>\n",
       "      <td>2 nights ·</td>\n",
       "      <td>December 2024</td>\n",
       "      <td>Couple</td>\n",
       "      <td>Special Offer - One-Bedroom Suite with Sea and...</td>\n",
       "      <td>Reviewed: January 3, 2025</td>\n",
       "      <td>nice but noisy</td>\n",
       "      <td>sea view and location</td>\n",
       "    </tr>\n",
       "    <tr>\n",
       "      <th>7</th>\n",
       "      <td>Alexandria</td>\n",
       "      <td>Tolip Hotel Alexandria</td>\n",
       "      <td>Ahmed</td>\n",
       "      <td>Egypt</td>\n",
       "      <td>1 night ·</td>\n",
       "      <td>January 2025</td>\n",
       "      <td>Family</td>\n",
       "      <td>Special Offer - Deluxe Room with City View - E...</td>\n",
       "      <td>Reviewed: January 2, 2025</td>\n",
       "      <td>Hospitable staff, wide room with nice view, br...</td>\n",
       "      <td>Rooms needs small renovations, otherwise all w...</td>\n",
       "    </tr>\n",
       "    <tr>\n",
       "      <th>8</th>\n",
       "      <td>Alexandria</td>\n",
       "      <td>Tolip Hotel Alexandria</td>\n",
       "      <td>Mohamed</td>\n",
       "      <td>Egypt</td>\n",
       "      <td>1 night ·</td>\n",
       "      <td>January 2025</td>\n",
       "      <td>Couple</td>\n",
       "      <td>Special Offer - Deluxe Room with City View - E...</td>\n",
       "      <td>Reviewed: January 1, 2025</td>\n",
       "      <td>Room and sea view</td>\n",
       "      <td>Cleanliness issue beside room door</td>\n",
       "    </tr>\n",
       "    <tr>\n",
       "      <th>9</th>\n",
       "      <td>Alexandria</td>\n",
       "      <td>Tolip Hotel Alexandria</td>\n",
       "      <td>Hassan</td>\n",
       "      <td>Qatar</td>\n",
       "      <td>2 nights ·</td>\n",
       "      <td>January 2025</td>\n",
       "      <td>Family</td>\n",
       "      <td>Special Offer - Deluxe Room with City View - E...</td>\n",
       "      <td>Reviewed: January 1, 2025</td>\n",
       "      <td>Very good thank you</td>\n",
       "      <td>No Negative Feedback</td>\n",
       "    </tr>\n",
       "  </tbody>\n",
       "</table>\n",
       "</div>"
      ],
      "text/plain": [
       "         City              Hotel Name Reviewer Name  Reviewer Nationality  \\\n",
       "0  Alexandria  Tolip Hotel Alexandria       Annabel              Guernsey   \n",
       "1  Alexandria  Tolip Hotel Alexandria       Yasmeen                 Yemen   \n",
       "2  Alexandria  Tolip Hotel Alexandria   Sharafeldin                 Egypt   \n",
       "3  Alexandria  Tolip Hotel Alexandria        Yaswah                 Egypt   \n",
       "4  Alexandria  Tolip Hotel Alexandria        Fatima  United Arab Emirates   \n",
       "5  Alexandria  Tolip Hotel Alexandria        Hesham                 Egypt   \n",
       "6  Alexandria  Tolip Hotel Alexandria            Dr                 Egypt   \n",
       "7  Alexandria  Tolip Hotel Alexandria         Ahmed                 Egypt   \n",
       "8  Alexandria  Tolip Hotel Alexandria       Mohamed                 Egypt   \n",
       "9  Alexandria  Tolip Hotel Alexandria        Hassan                 Qatar   \n",
       "\n",
       "      Duration  Check-in Date Travel Type  \\\n",
       "0   1 night ·   December 2024      Family   \n",
       "1   1 night ·    January 2025       Group   \n",
       "2   1 night ·    January 2025      Family   \n",
       "3  2 nights ·    January 2025       Group   \n",
       "4  4 nights ·    January 2025      Couple   \n",
       "5   1 night ·   December 2024      Couple   \n",
       "6  2 nights ·   December 2024      Couple   \n",
       "7   1 night ·    January 2025      Family   \n",
       "8   1 night ·    January 2025      Couple   \n",
       "9  2 nights ·    January 2025      Family   \n",
       "\n",
       "                                           Room Type  \\\n",
       "0  Deluxe Double or Twin Room with Sea and Pool View   \n",
       "1                          Family Room Side Sea View   \n",
       "2  Special Offer - Double or Twin Room with Side ...   \n",
       "3  Special Offer - Family Room with Side Sea View...   \n",
       "4  Special Offer - Deluxe Room with City View - E...   \n",
       "5  Special Offer - Double or Twin Room with Side ...   \n",
       "6  Special Offer - One-Bedroom Suite with Sea and...   \n",
       "7  Special Offer - Deluxe Room with City View - E...   \n",
       "8  Special Offer - Deluxe Room with City View - E...   \n",
       "9  Special Offer - Deluxe Room with City View - E...   \n",
       "\n",
       "                 Review Date  \\\n",
       "0  Reviewed: January 4, 2025   \n",
       "1  Reviewed: January 7, 2025   \n",
       "2  Reviewed: January 6, 2025   \n",
       "3  Reviewed: January 5, 2025   \n",
       "4  Reviewed: January 5, 2025   \n",
       "5  Reviewed: January 3, 2025   \n",
       "6  Reviewed: January 3, 2025   \n",
       "7  Reviewed: January 2, 2025   \n",
       "8  Reviewed: January 1, 2025   \n",
       "9  Reviewed: January 1, 2025   \n",
       "\n",
       "                                     Positive Review  \\\n",
       "0  Excellent buffet breakfast with wide range of ...   \n",
       "1                                  All was very good   \n",
       "2  The view was very good\\r\\nThe breakfast was ex...   \n",
       "3                               Good value for money   \n",
       "4                   Location and facilities and view   \n",
       "5                                              Great   \n",
       "6                                     nice but noisy   \n",
       "7  Hospitable staff, wide room with nice view, br...   \n",
       "8                                  Room and sea view   \n",
       "9                                Very good thank you   \n",
       "\n",
       "                                     Negative Review  \n",
       "0                               No Negative Feedback  \n",
       "1        I like everything but The net was weak only  \n",
       "2  The parking was not free and you have to pay 1...  \n",
       "3  Despite 6th floor very noisy street traffic.\\r...  \n",
       "4  Bathroom maintenance and quality of towels and...  \n",
       "5                            Nice place and location  \n",
       "6                              sea view and location  \n",
       "7  Rooms needs small renovations, otherwise all w...  \n",
       "8                 Cleanliness issue beside room door  \n",
       "9                               No Negative Feedback  "
      ]
     },
     "execution_count": 94,
     "metadata": {},
     "output_type": "execute_result"
    }
   ],
   "source": [
    "data.head(10)"
   ]
  },
  {
   "cell_type": "code",
   "execution_count": 96,
   "metadata": {},
   "outputs": [
    {
     "name": "stderr",
     "output_type": "stream",
     "text": [
      "<>:3: SyntaxWarning: invalid escape sequence '\\s'\n",
      "<>:4: SyntaxWarning: invalid escape sequence '\\s'\n",
      "<>:5: SyntaxWarning: invalid escape sequence '\\s'\n",
      "<>:3: SyntaxWarning: invalid escape sequence '\\s'\n",
      "<>:4: SyntaxWarning: invalid escape sequence '\\s'\n",
      "<>:5: SyntaxWarning: invalid escape sequence '\\s'\n",
      "C:\\Users\\keror\\AppData\\Local\\Temp\\ipykernel_14848\\1535265765.py:3: SyntaxWarning: invalid escape sequence '\\s'\n",
      "  data['Hotel Name']= data['Hotel Name'].apply(lambda x : re.sub('([^a-zA-Z\\s])',' ',x) if isinstance(x, str) else x)\n",
      "C:\\Users\\keror\\AppData\\Local\\Temp\\ipykernel_14848\\1535265765.py:4: SyntaxWarning: invalid escape sequence '\\s'\n",
      "  data['Negative Review']= data['Negative Review'].apply(lambda x : re.sub('([^a-zA-Z\\s])',' ',x) if isinstance(x, str) else x)\n",
      "C:\\Users\\keror\\AppData\\Local\\Temp\\ipykernel_14848\\1535265765.py:5: SyntaxWarning: invalid escape sequence '\\s'\n",
      "  data['Positive Review']= data['Positive Review'].apply(lambda x : re.sub('([^a-zA-Z\\s])',' ',x) if isinstance(x, str) else x)\n"
     ]
    }
   ],
   "source": [
    "#using only english charactes \n",
    "\n",
    "data['Hotel Name']= data['Hotel Name'].apply(lambda x : re.sub('([^a-zA-Z\\s])',' ',x) if isinstance(x, str) else x)\n",
    "data['Negative Review']= data['Negative Review'].apply(lambda x : re.sub('([^a-zA-Z\\s])',' ',x) if isinstance(x, str) else x)\n",
    "data['Positive Review']= data['Positive Review'].apply(lambda x : re.sub('([^a-zA-Z\\s])',' ',x) if isinstance(x, str) else x)\n"
   ]
  },
  {
   "cell_type": "code",
   "execution_count": null,
   "metadata": {},
   "outputs": [],
   "source": []
  },
  {
   "cell_type": "code",
   "execution_count": 49,
   "metadata": {},
   "outputs": [
    {
     "name": "stderr",
     "output_type": "stream",
     "text": [
      "<>:3: SyntaxWarning: invalid escape sequence '\\s'\n",
      "<>:4: SyntaxWarning: invalid escape sequence '\\s'\n",
      "<>:5: SyntaxWarning: invalid escape sequence '\\s'\n",
      "<>:6: SyntaxWarning: invalid escape sequence '\\s'\n",
      "<>:7: SyntaxWarning: invalid escape sequence '\\s'\n",
      "<>:3: SyntaxWarning: invalid escape sequence '\\s'\n",
      "<>:4: SyntaxWarning: invalid escape sequence '\\s'\n",
      "<>:5: SyntaxWarning: invalid escape sequence '\\s'\n",
      "<>:6: SyntaxWarning: invalid escape sequence '\\s'\n",
      "<>:7: SyntaxWarning: invalid escape sequence '\\s'\n",
      "C:\\Users\\keror\\AppData\\Local\\Temp\\ipykernel_14848\\2077592957.py:3: SyntaxWarning: invalid escape sequence '\\s'\n",
      "  data['City Name']= data['City Name'].apply(lambda x : re.sub('(\\s){2,}',' ',x))\n",
      "C:\\Users\\keror\\AppData\\Local\\Temp\\ipykernel_14848\\2077592957.py:4: SyntaxWarning: invalid escape sequence '\\s'\n",
      "  data['Hotel Name']= data['Hotel Name'].apply(lambda x : re.sub('(\\s){2,}',' ',x))\n",
      "C:\\Users\\keror\\AppData\\Local\\Temp\\ipykernel_14848\\2077592957.py:5: SyntaxWarning: invalid escape sequence '\\s'\n",
      "  data['Negative Review']= data['Negative Review'].apply(lambda x : re.sub('(\\s){2,}',' ',x) if isinstance(x, str) else x)\n",
      "C:\\Users\\keror\\AppData\\Local\\Temp\\ipykernel_14848\\2077592957.py:6: SyntaxWarning: invalid escape sequence '\\s'\n",
      "  data['Positive Review']= data['Positive Review'].apply(lambda x : re.sub('(\\s){2,}',' ',x) if isinstance(x, str) else x)\n",
      "C:\\Users\\keror\\AppData\\Local\\Temp\\ipykernel_14848\\2077592957.py:7: SyntaxWarning: invalid escape sequence '\\s'\n",
      "  data['Review Title']= data['Review Title'].apply(lambda x : re.sub('(\\s){2,}',' ',x) if isinstance(x, str) else x)\n"
     ]
    }
   ],
   "source": [
    "# remove additional spaces\n",
    "\n",
    "data['City Name']= data['City Name'].apply(lambda x : re.sub('(\\s){2,}',' ',x))\n",
    "data['Hotel Name']= data['Hotel Name'].apply(lambda x : re.sub('(\\s){2,}',' ',x))\n",
    "data['Negative Review']= data['Negative Review'].apply(lambda x : re.sub('(\\s){2,}',' ',x) if isinstance(x, str) else x)\n",
    "data['Positive Review']= data['Positive Review'].apply(lambda x : re.sub('(\\s){2,}',' ',x) if isinstance(x, str) else x)\n",
    "data['Review Title']= data['Review Title'].apply(lambda x : re.sub('(\\s){2,}',' ',x) if isinstance(x, str) else x)"
   ]
  },
  {
   "cell_type": "code",
   "execution_count": null,
   "metadata": {},
   "outputs": [],
   "source": []
  },
  {
   "cell_type": "code",
   "execution_count": 98,
   "metadata": {},
   "outputs": [],
   "source": [
    "#remove the spaces at the start and the end of the string\n",
    "\n",
    "data['City'] = data['City'].apply(lambda x : x.strip() )\n",
    "data['Negative Review'] = data['Negative Review'].apply(lambda x : x.strip() if isinstance(x, str) else x )\n",
    "data['Positive Review'] = data['Positive Review'].apply(lambda x : x.strip() if isinstance(x, str) else x)\n"
   ]
  },
  {
   "cell_type": "code",
   "execution_count": null,
   "metadata": {},
   "outputs": [],
   "source": []
  },
  {
   "cell_type": "code",
   "execution_count": 99,
   "metadata": {},
   "outputs": [],
   "source": [
    "# make all data in lower case\n",
    "\n",
    "data['Negative Review'] = data['Negative Review'].apply(lambda x : x.lower() if isinstance(x, str) else x )\n",
    "data['Positive Review'] = data['Positive Review'].apply(lambda x : x.lower() if isinstance(x, str) else x)\n"
   ]
  },
  {
   "cell_type": "code",
   "execution_count": null,
   "metadata": {},
   "outputs": [],
   "source": []
  },
  {
   "cell_type": "code",
   "execution_count": 101,
   "metadata": {},
   "outputs": [],
   "source": [
    "def remove_SW(example):\n",
    "    sw = set(stopwords.words('english'))\n",
    "    word_tokens = word_tokenize(example)\n",
    "    filtered_sentence = [w for w in word_tokens if w.lower() not in sw]\n",
    "\n",
    "    return ' '.join(filtered_sentence)\n",
    "\n",
    "\n",
    "columns_to_clean = ['Negative Review', 'Positive Review']\n",
    "\n",
    "for column in columns_to_clean:\n",
    "    data[column] = data[column].apply(lambda x: remove_SW(x) if isinstance(x, str) else x)"
   ]
  },
  {
   "cell_type": "code",
   "execution_count": null,
   "metadata": {},
   "outputs": [],
   "source": []
  },
  {
   "cell_type": "code",
   "execution_count": 102,
   "metadata": {},
   "outputs": [
    {
     "name": "stderr",
     "output_type": "stream",
     "text": [
      "<>:3: SyntaxWarning: invalid escape sequence '\\s'\n",
      "<>:3: SyntaxWarning: invalid escape sequence '\\s'\n",
      "C:\\Users\\keror\\AppData\\Local\\Temp\\ipykernel_14848\\3606363045.py:3: SyntaxWarning: invalid escape sequence '\\s'\n",
      "  data['Duration']= data['Duration'].apply(lambda x : re.sub('([^0-9a-zA-Z\\s])',' ',x) if isinstance(x, str) else x)\n"
     ]
    }
   ],
   "source": [
    "# handle travel duration column\n",
    "\n",
    "data['Duration']= data['Duration'].apply(lambda x : re.sub('([^0-9a-zA-Z\\s])',' ',x) if isinstance(x, str) else x)"
   ]
  },
  {
   "cell_type": "code",
   "execution_count": 103,
   "metadata": {},
   "outputs": [],
   "source": [
    "# handle review date column\n",
    "\n",
    "data[\"Review Date\"] = data[\"Review Date\"].str.replace(\"Reviewed: \", \"\", regex=False)"
   ]
  },
  {
   "cell_type": "markdown",
   "metadata": {},
   "source": [
    "# TOKENIZING"
   ]
  },
  {
   "cell_type": "code",
   "execution_count": null,
   "metadata": {},
   "outputs": [
    {
     "name": "stdout",
     "output_type": "stream",
     "text": [
      "Top Tokens:\n",
      " - booking: 0.28\n",
      " - apartment: 0.27\n",
      " - location: 0.25\n",
      " - com: 0.21\n",
      " - day: 0.19\n",
      " - need: 0.19\n",
      " - view: 0.19\n",
      " - good: 0.16\n",
      " - place: 0.16\n",
      " - feedback: 0.14\n",
      " - host: 0.14\n",
      " - reservation: 0.14\n",
      " - room: 0.14\n",
      " - sea: 0.12\n",
      " - stay: 0.12\n",
      "\n",
      "All Top Tokens: ['booking', 'apartment', 'location', 'com', 'day', 'need', 'view', 'good', 'place', 'feedback', 'host', 'reservation', 'room', 'sea', 'stay']\n"
     ]
    }
   ],
   "source": [
    "\n",
    "# Combine all reviews into a single text\n",
    "all_reviews = \" \".join(data['Positive Review'] + \" \" + data['Negative Review'])\n",
    "\n",
    "# Tokenize the combined text using NLTK tokenizer\n",
    "tokenized_reviews = \" \".join(word_tokenize(all_reviews))\n",
    "\n",
    "# Initialize TF-IDF Vectorizer\n",
    "vectorizer = TfidfVectorizer(stop_words='english')\n",
    "\n",
    "# Fit and transform the tokenized reviews\n",
    "tfidf_matrix = vectorizer.fit_transform([tokenized_reviews])\n",
    "\n",
    "# Get feature names (tokens)\n",
    "feature_names = vectorizer.get_feature_names_out()\n",
    "\n",
    "# Extract TF-IDF scores for all tokens\n",
    "tfidf_scores = zip(feature_names, tfidf_matrix.toarray()[0])\n",
    "\n",
    "# Sort tokens by their TF-IDF scores\n",
    "sorted_tokens = sorted(tfidf_scores, key=lambda x: x[1], reverse=True)\n",
    "\n",
    "\n",
    "print(\"Top Tokens:\")\n",
    "\n",
    "tokens = []\n",
    "for token, score in sorted_tokens[:15]:  \n",
    "    tokens.append(token)\n",
    "    print(f\" - {token}: {score:.2f}\")\n",
    "\n",
    "print(\"\\nAll Top Tokens:\", tokens)\n"
   ]
  },
  {
   "cell_type": "code",
   "execution_count": 121,
   "metadata": {},
   "outputs": [
    {
     "data": {
      "text/plain": [
       "['booking', 'apartment', 'location', 'com', 'day']"
      ]
     },
     "execution_count": 121,
     "metadata": {},
     "output_type": "execute_result"
    }
   ],
   "source": [
    "token_list = tokens[0:5]\n",
    "token_list"
   ]
  },
  {
   "cell_type": "code",
   "execution_count": 122,
   "metadata": {},
   "outputs": [],
   "source": [
    "for col in token_list:\n",
    "    data[col] = 0"
   ]
  },
  {
   "cell_type": "code",
   "execution_count": 123,
   "metadata": {},
   "outputs": [],
   "source": [
    "for word in token_list:\n",
    "    # For Positive Review: If the word exists, assign 1, otherwise 0\n",
    "    data[word] = data['Positive Review'].apply(lambda x: 1 if word in x.lower() else 0)\n",
    "    \n",
    "    # For Negative Review: If the word exists, assign -1, else keep the value as 1 if it's already 1, otherwise assign 0\n",
    "    data[word] = data.apply(lambda row: -1 if word in row['Negative Review'].lower() else (1 if row[word] == 1 else 0), axis=1)\n"
   ]
  },
  {
   "cell_type": "code",
   "execution_count": 124,
   "metadata": {},
   "outputs": [
    {
     "data": {
      "text/html": [
       "<div>\n",
       "<style scoped>\n",
       "    .dataframe tbody tr th:only-of-type {\n",
       "        vertical-align: middle;\n",
       "    }\n",
       "\n",
       "    .dataframe tbody tr th {\n",
       "        vertical-align: top;\n",
       "    }\n",
       "\n",
       "    .dataframe thead th {\n",
       "        text-align: right;\n",
       "    }\n",
       "</style>\n",
       "<table border=\"1\" class=\"dataframe\">\n",
       "  <thead>\n",
       "    <tr style=\"text-align: right;\">\n",
       "      <th></th>\n",
       "      <th>City</th>\n",
       "      <th>Hotel Name</th>\n",
       "      <th>Reviewer Name</th>\n",
       "      <th>Reviewer Nationality</th>\n",
       "      <th>Duration</th>\n",
       "      <th>Check-in Date</th>\n",
       "      <th>Travel Type</th>\n",
       "      <th>Room Type</th>\n",
       "      <th>Review Date</th>\n",
       "      <th>Positive Review</th>\n",
       "      <th>...</th>\n",
       "      <th>booking</th>\n",
       "      <th>apartment</th>\n",
       "      <th>location</th>\n",
       "      <th>com</th>\n",
       "      <th>day</th>\n",
       "      <th>need</th>\n",
       "      <th>view</th>\n",
       "      <th>good</th>\n",
       "      <th>place</th>\n",
       "      <th>feedback</th>\n",
       "    </tr>\n",
       "  </thead>\n",
       "  <tbody>\n",
       "    <tr>\n",
       "      <th>0</th>\n",
       "      <td>Alexandria</td>\n",
       "      <td>Tolip Hotel Alexandria</td>\n",
       "      <td>Annabel</td>\n",
       "      <td>Guernsey</td>\n",
       "      <td>1 night</td>\n",
       "      <td>December 2024</td>\n",
       "      <td>Family</td>\n",
       "      <td>Deluxe Double or Twin Room with Sea and Pool View</td>\n",
       "      <td>January 4, 2025</td>\n",
       "      <td>excellent buffet breakfast wide range cooked f...</td>\n",
       "      <td>...</td>\n",
       "      <td>0</td>\n",
       "      <td>0</td>\n",
       "      <td>0</td>\n",
       "      <td>0</td>\n",
       "      <td>0</td>\n",
       "      <td>0</td>\n",
       "      <td>0</td>\n",
       "      <td>0</td>\n",
       "      <td>0</td>\n",
       "      <td>-1</td>\n",
       "    </tr>\n",
       "    <tr>\n",
       "      <th>1</th>\n",
       "      <td>Alexandria</td>\n",
       "      <td>Tolip Hotel Alexandria</td>\n",
       "      <td>Yasmeen</td>\n",
       "      <td>Yemen</td>\n",
       "      <td>1 night</td>\n",
       "      <td>January 2025</td>\n",
       "      <td>Group</td>\n",
       "      <td>Family Room Side Sea View</td>\n",
       "      <td>January 7, 2025</td>\n",
       "      <td>good</td>\n",
       "      <td>...</td>\n",
       "      <td>0</td>\n",
       "      <td>0</td>\n",
       "      <td>0</td>\n",
       "      <td>0</td>\n",
       "      <td>0</td>\n",
       "      <td>0</td>\n",
       "      <td>0</td>\n",
       "      <td>1</td>\n",
       "      <td>0</td>\n",
       "      <td>0</td>\n",
       "    </tr>\n",
       "    <tr>\n",
       "      <th>2</th>\n",
       "      <td>Alexandria</td>\n",
       "      <td>Tolip Hotel Alexandria</td>\n",
       "      <td>Sharafeldin</td>\n",
       "      <td>Egypt</td>\n",
       "      <td>1 night</td>\n",
       "      <td>January 2025</td>\n",
       "      <td>Family</td>\n",
       "      <td>Special Offer - Double or Twin Room with Side ...</td>\n",
       "      <td>January 6, 2025</td>\n",
       "      <td>view good breakfast excellent room clean tidy</td>\n",
       "      <td>...</td>\n",
       "      <td>0</td>\n",
       "      <td>0</td>\n",
       "      <td>0</td>\n",
       "      <td>0</td>\n",
       "      <td>-1</td>\n",
       "      <td>0</td>\n",
       "      <td>1</td>\n",
       "      <td>1</td>\n",
       "      <td>0</td>\n",
       "      <td>0</td>\n",
       "    </tr>\n",
       "    <tr>\n",
       "      <th>3</th>\n",
       "      <td>Alexandria</td>\n",
       "      <td>Tolip Hotel Alexandria</td>\n",
       "      <td>Yaswah</td>\n",
       "      <td>Egypt</td>\n",
       "      <td>2 nights</td>\n",
       "      <td>January 2025</td>\n",
       "      <td>Group</td>\n",
       "      <td>Special Offer - Family Room with Side Sea View...</td>\n",
       "      <td>January 5, 2025</td>\n",
       "      <td>good value money</td>\n",
       "      <td>...</td>\n",
       "      <td>0</td>\n",
       "      <td>0</td>\n",
       "      <td>0</td>\n",
       "      <td>0</td>\n",
       "      <td>0</td>\n",
       "      <td>0</td>\n",
       "      <td>0</td>\n",
       "      <td>1</td>\n",
       "      <td>0</td>\n",
       "      <td>0</td>\n",
       "    </tr>\n",
       "    <tr>\n",
       "      <th>4</th>\n",
       "      <td>Alexandria</td>\n",
       "      <td>Tolip Hotel Alexandria</td>\n",
       "      <td>Fatima</td>\n",
       "      <td>United Arab Emirates</td>\n",
       "      <td>4 nights</td>\n",
       "      <td>January 2025</td>\n",
       "      <td>Couple</td>\n",
       "      <td>Special Offer - Deluxe Room with City View - E...</td>\n",
       "      <td>January 5, 2025</td>\n",
       "      <td>location facilities view</td>\n",
       "      <td>...</td>\n",
       "      <td>0</td>\n",
       "      <td>0</td>\n",
       "      <td>1</td>\n",
       "      <td>0</td>\n",
       "      <td>0</td>\n",
       "      <td>0</td>\n",
       "      <td>1</td>\n",
       "      <td>0</td>\n",
       "      <td>0</td>\n",
       "      <td>0</td>\n",
       "    </tr>\n",
       "  </tbody>\n",
       "</table>\n",
       "<p>5 rows × 21 columns</p>\n",
       "</div>"
      ],
      "text/plain": [
       "         City              Hotel Name Reviewer Name  Reviewer Nationality  \\\n",
       "0  Alexandria  Tolip Hotel Alexandria       Annabel              Guernsey   \n",
       "1  Alexandria  Tolip Hotel Alexandria       Yasmeen                 Yemen   \n",
       "2  Alexandria  Tolip Hotel Alexandria   Sharafeldin                 Egypt   \n",
       "3  Alexandria  Tolip Hotel Alexandria        Yaswah                 Egypt   \n",
       "4  Alexandria  Tolip Hotel Alexandria        Fatima  United Arab Emirates   \n",
       "\n",
       "      Duration  Check-in Date Travel Type  \\\n",
       "0   1 night     December 2024      Family   \n",
       "1   1 night      January 2025       Group   \n",
       "2   1 night      January 2025      Family   \n",
       "3  2 nights      January 2025       Group   \n",
       "4  4 nights      January 2025      Couple   \n",
       "\n",
       "                                           Room Type      Review Date  \\\n",
       "0  Deluxe Double or Twin Room with Sea and Pool View  January 4, 2025   \n",
       "1                          Family Room Side Sea View  January 7, 2025   \n",
       "2  Special Offer - Double or Twin Room with Side ...  January 6, 2025   \n",
       "3  Special Offer - Family Room with Side Sea View...  January 5, 2025   \n",
       "4  Special Offer - Deluxe Room with City View - E...  January 5, 2025   \n",
       "\n",
       "                                     Positive Review  ... booking  apartment  \\\n",
       "0  excellent buffet breakfast wide range cooked f...  ...       0          0   \n",
       "1                                               good  ...       0          0   \n",
       "2      view good breakfast excellent room clean tidy  ...       0          0   \n",
       "3                                   good value money  ...       0          0   \n",
       "4                           location facilities view  ...       0          0   \n",
       "\n",
       "   location  com  day  need  view  good  place  feedback  \n",
       "0         0    0    0     0     0     0      0        -1  \n",
       "1         0    0    0     0     0     1      0         0  \n",
       "2         0    0   -1     0     1     1      0         0  \n",
       "3         0    0    0     0     0     1      0         0  \n",
       "4         1    0    0     0     1     0      0         0  \n",
       "\n",
       "[5 rows x 21 columns]"
      ]
     },
     "execution_count": 124,
     "metadata": {},
     "output_type": "execute_result"
    }
   ],
   "source": [
    "data.head()"
   ]
  },
  {
   "cell_type": "code",
   "execution_count": null,
   "metadata": {},
   "outputs": [],
   "source": []
  }
 ],
 "metadata": {
  "kernelspec": {
   "display_name": "base",
   "language": "python",
   "name": "python3"
  },
  "language_info": {
   "codemirror_mode": {
    "name": "ipython",
    "version": 3
   },
   "file_extension": ".py",
   "mimetype": "text/x-python",
   "name": "python",
   "nbconvert_exporter": "python",
   "pygments_lexer": "ipython3",
   "version": "3.12.4"
  }
 },
 "nbformat": 4,
 "nbformat_minor": 2
}
